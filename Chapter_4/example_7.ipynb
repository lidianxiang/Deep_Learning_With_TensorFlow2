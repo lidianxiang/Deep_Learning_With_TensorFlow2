{
 "cells": [
  {
   "cell_type": "code",
   "execution_count": 1,
   "metadata": {},
   "outputs": [
    {
     "name": "stderr",
     "output_type": "stream",
     "text": [
      "/Users/lidianxiang/anaconda3/envs/tensorflow/lib/python3.6/importlib/_bootstrap.py:219: RuntimeWarning: numpy.ufunc size changed, may indicate binary incompatibility. Expected 216, got 192\n",
      "  return f(*args, **kwds)\n",
      "/Users/lidianxiang/anaconda3/envs/tensorflow/lib/python3.6/importlib/_bootstrap.py:219: RuntimeWarning: numpy.ufunc size changed, may indicate binary incompatibility. Expected 192 from C header, got 216 from PyObject\n",
      "  return f(*args, **kwds)\n"
     ]
    }
   ],
   "source": [
    "import os \n",
    "import tensorflow as tf\n",
    "\n",
    "from sklearn.utils import shuffle\n",
    "import numpy as np\n",
    "import matplotlib.pyplot as plt"
   ]
  },
  {
   "cell_type": "code",
   "execution_count": 14,
   "metadata": {},
   "outputs": [],
   "source": [
    "def load_sample(sample_dir,shuffleflag=True):\n",
    "    \"\"\"递归读取文件。只支持一级。返回文件名、数值大小、数值对应的标签名\"\"\"\n",
    "    print('loading sample dataset')\n",
    "    lfilenames = []\n",
    "    labelsnames = []\n",
    "    for (dirpath,dirnames,filenames) in os.walk(sample_dir):\n",
    "        for filename in filenames:\n",
    "            filename_path = os.sep.join([dirpath,filename])\n",
    "            lfilenames.append(filename_path)\n",
    "            labelsnames.append(dirpath.split('\\\\')[-1]) \n",
    "            \n",
    "\n",
    "    lab = list(sorted(set(labelsnames)))\n",
    "    labdict = dict(zip(lab,list(range(len(lab))))) \n",
    "    \n",
    "    labels = [labdict[i] for i in labelsnames]\n",
    "    \n",
    "    if shuffleflag == True:\n",
    "        return shuffle(np.asarray(lfilenames),np.asarray(labels)),np.asarray(lab)\n",
    "    else:\n",
    "        return (np.asarray(lfilenames),np.asarray(labels)),np.asarray(lab)"
   ]
  },
  {
   "cell_type": "code",
   "execution_count": 15,
   "metadata": {},
   "outputs": [
    {
     "name": "stdout",
     "output_type": "stream",
     "text": [
      "loading sample dataset\n"
     ]
    }
   ],
   "source": [
    "directory = 'man_woman/'\n",
    "(filenames,labels),_ = load_sample(directory,shuffleflag=False) "
   ]
  },
  {
   "cell_type": "code",
   "execution_count": 16,
   "metadata": {},
   "outputs": [
    {
     "data": {
      "text/plain": [
       "array(['man_woman/man/man (2).jpg', 'man_woman/man/man (3).jpg',\n",
       "       'man_woman/man/man (4).jpg', 'man_woman/man/man (8).jpg',\n",
       "       'man_woman/man/man (9).jpg', 'man_woman/man/man (5).jpg',\n",
       "       'man_woman/man/man (6).jpg', 'man_woman/man/man (10).jpg',\n",
       "       'man_woman/man/man (7).jpg', 'man_woman/man/man (1).jpg',\n",
       "       'man_woman/woman/woman (1).jpg', 'man_woman/woman/woman (6).jpg',\n",
       "       'man_woman/woman/woman (10).jpg', 'man_woman/woman/woman (7).jpg',\n",
       "       'man_woman/woman/woman (4).jpg', 'man_woman/woman/woman (8).jpg',\n",
       "       'man_woman/woman/woman (9).jpg', 'man_woman/woman/woman (5).jpg',\n",
       "       'man_woman/woman/woman (2).jpg', 'man_woman/woman/woman (3).jpg'],\n",
       "      dtype='<U30')"
      ]
     },
     "execution_count": 16,
     "metadata": {},
     "output_type": "execute_result"
    }
   ],
   "source": [
    "filenames"
   ]
  },
  {
   "cell_type": "code",
   "execution_count": 17,
   "metadata": {},
   "outputs": [
    {
     "data": {
      "text/plain": [
       "array([0, 0, 0, 0, 0, 0, 0, 0, 0, 0, 1, 1, 1, 1, 1, 1, 1, 1, 1, 1])"
      ]
     },
     "execution_count": 17,
     "metadata": {},
     "output_type": "execute_result"
    }
   ],
   "source": [
    "labels"
   ]
  },
  {
   "cell_type": "code",
   "execution_count": 40,
   "metadata": {},
   "outputs": [],
   "source": [
    "def _distorted_image(image,size,ch=1,shuffleflag=True,cropflag=False,\n",
    "                    brightnessflag=False,contrastflag=False):\n",
    "    distorted_image = tf.image.random_flip_left_right(image)\n",
    "    \n",
    "    if cropflag == True:\n",
    "        s = tf.random_uniform((1,2),int(size[0]*0.8),size[0],tf.int32)\n",
    "        distorted_image = tf.random_crop(distorted_image,[s[0][0],s[0][0],ch])\n",
    "    distorted_image = tf.image.random_flip_up_down(distorted_image)\n",
    "    if brightnessflag == True:\n",
    "        distorted_image = tf.image.random_brightness(distorted_image,max_delta=10)\n",
    "    if contrastflag == True:\n",
    "        distorted_image = tf.image.random_contrast(distorted_image,lower=0.2,upper=1.8)\n",
    "    if shuffleflag == True:\n",
    "        distorted_image = tf.random_shuffle(distorted_image)\n",
    "    return distorted_image"
   ]
  },
  {
   "cell_type": "code",
   "execution_count": 41,
   "metadata": {},
   "outputs": [],
   "source": [
    "def _norm_image(image,size,ch=1,flattenflag=False):\n",
    "    image_decode = image/255.0\n",
    "    if flattenflag == True:\n",
    "        image_decode = tf.reshape(image_decode,[size[0]*size[1]*ch])\n",
    "    return image_decode"
   ]
  },
  {
   "cell_type": "code",
   "execution_count": 57,
   "metadata": {},
   "outputs": [],
   "source": [
    "from skimage import transform\n",
    "\n",
    "def _random_rotated30(image,label):\n",
    "    \n",
    "    def _rotated(image):\n",
    "        shift_y,shift_x = np.array(image.shape.as_list()[:2],np.float32) / 2.\n",
    "        tf_rotate = transform.SimilarityTransform(rotation=np.deg2rad(30))\n",
    "        tf_shift = transform.SimilarityTransform(translation=[-shift_x,-shift_y])\n",
    "        tf_shift_inv = transform.SimilarityTransform(translation=[shift_x,shift_y])\n",
    "        image_rotated = transform.warp(image,(tf_shift + (tf_rotate + tf_shift_inv).inverse))\n",
    "        return image_rotated\n",
    "    \n",
    "    def _rotatedwrap():\n",
    "        image_rotated = tf.py_func(_rotated,[image],[tf.float64])\n",
    "        return tf.cast(image_rotated,tf.float32)[0]\n",
    "    \n",
    "    a  = tf.random_uniform([1],0,2,tf.int32)\n",
    "    image_decode = tf.cond(tf.equal(tf.constant(0),a[0]),lambda:image,_rotatedwrap)\n",
    "    return image_decode,label"
   ]
  },
  {
   "cell_type": "code",
   "execution_count": 58,
   "metadata": {},
   "outputs": [],
   "source": [
    "def dataset(directory,size,batchsize,random_rotated=False):\n",
    "    (filenames,labels),_ = load_sample(directory,shuffleflag=False)\n",
    "    \n",
    "    def _parseone(filename,label):\n",
    "        \"\"\"reading and handle image\"\"\"\n",
    "        image_string = tf.read_file(filename)\n",
    "        image_decode = tf.image.decode_image(image_string)\n",
    "        image_decode.set_shape([None,None,None])\n",
    "        image_decode = _distorted_image(image_decode,size)\n",
    "        image_decode = tf.image.resize_images(image_decode,size)\n",
    "        image_decode = _norm_image(image_decode,size)\n",
    "        image_decode = tf.cast(image_decode,dtype=tf.float32)\n",
    "        return image_decode,label\n",
    "    \n",
    "    dataset = tf.data.Dataset.from_tensor_slices((filenames,labels))\n",
    "    dataset = dataset.map(_parseone)\n",
    "    \n",
    "    if random_rotated == True:\n",
    "        dataset = dataset.map(_random_rotated30)\n",
    "        \n",
    "    dataset = dataset.batch(batchsize)\n",
    "    return dataset"
   ]
  },
  {
   "cell_type": "code",
   "execution_count": 59,
   "metadata": {},
   "outputs": [],
   "source": [
    "def showresult(subplot,title,thisimg):\n",
    "    p = plt.subplot(subplot)\n",
    "    p .axis(\"off\")\n",
    "    p.imshow(thisimg)\n",
    "    p.set_title(title)\n",
    "    \n",
    "def showimg(index,label,img,ntop):\n",
    "    plt.figure(figsize=(20,10))\n",
    "    plt.axis('off')\n",
    "    ntop = min(ntop,9)\n",
    "    print(index)\n",
    "    for i in range(ntop):\n",
    "        showresult(100+10*ntop+1+i,label[i],img[i])\n",
    "    plt.show()\n",
    "    \n",
    "def getone(dataset):\n",
    "    iterator = dataset.make_one_shot_iterator()\n",
    "    one_element = iterator.get_next()\n",
    "    return one_element"
   ]
  },
  {
   "cell_type": "code",
   "execution_count": 60,
   "metadata": {},
   "outputs": [
    {
     "name": "stdout",
     "output_type": "stream",
     "text": [
      "loading sample dataset\n",
      "loading sample dataset\n",
      "<BatchDataset shapes: ((?, 96, 96, ?), (?,)), types: (tf.float32, tf.int64)>\n",
      "<BatchDataset shapes: (<unknown>, (?,)), types: (tf.float32, tf.int64)>\n"
     ]
    }
   ],
   "source": [
    "sample_dir = r\"man_woman/\"\n",
    "size = [96,96]\n",
    "batchsize = 10 \n",
    "tdataset = dataset(sample_dir,size,batchsize)\n",
    "tdataset2 = dataset(sample_dir,size,batchsize,True)\n",
    "print(tdataset)\n",
    "print(tdataset2)"
   ]
  },
  {
   "cell_type": "code",
   "execution_count": 61,
   "metadata": {},
   "outputs": [],
   "source": [
    "one_element1 = getone(tdataset)\n",
    "one_element2 = getone(tdataset2) "
   ]
  },
  {
   "cell_type": "code",
   "execution_count": 62,
   "metadata": {},
   "outputs": [
    {
     "ename": "UnknownError",
     "evalue": "AttributeError: 'tuple' object has no attribute 'as_list'\nTraceback (most recent call last):\n\n  File \"/Users/lidianxiang/anaconda3/envs/tensorflow/lib/python3.6/site-packages/tensorflow/python/ops/script_ops.py\", line 206, in __call__\n    ret = func(*args)\n\n  File \"<ipython-input-57-96cc326f3fa4>\", line 6, in _rotated\n    shift_y,shift_x = np.array(image.shape.as_list()[:2],np.float32) / 2.\n\nAttributeError: 'tuple' object has no attribute 'as_list'\n\n\n\t [[{{node cond/PyFunc}} = PyFunc[Tin=[DT_FLOAT], Tout=[DT_DOUBLE], token=\"pyfunc_1\"](cond/Switch_1)]]\n\t [[node IteratorGetNext_1 (defined at <ipython-input-59-6969cce41294>:18)  = IteratorGetNext[output_shapes=[<unknown>, [?]], output_types=[DT_FLOAT, DT_INT64], _device=\"/job:localhost/replica:0/task:0/device:CPU:0\"](OneShotIterator_1)]]",
     "output_type": "error",
     "traceback": [
      "\u001b[0;31m-------------------------------\u001b[0m",
      "\u001b[0;31mUnknownError\u001b[0mTraceback (most recent call last)",
      "\u001b[0;32m~/anaconda3/envs/tensorflow/lib/python3.6/site-packages/tensorflow/python/client/session.py\u001b[0m in \u001b[0;36m_do_call\u001b[0;34m(self, fn, *args)\u001b[0m\n\u001b[1;32m   1333\u001b[0m     \u001b[0;32mtry\u001b[0m\u001b[0;34m:\u001b[0m\u001b[0;34m\u001b[0m\u001b[0;34m\u001b[0m\u001b[0m\n\u001b[0;32m-> 1334\u001b[0;31m       \u001b[0;32mreturn\u001b[0m \u001b[0mfn\u001b[0m\u001b[0;34m(\u001b[0m\u001b[0;34m*\u001b[0m\u001b[0margs\u001b[0m\u001b[0;34m)\u001b[0m\u001b[0;34m\u001b[0m\u001b[0;34m\u001b[0m\u001b[0m\n\u001b[0m\u001b[1;32m   1335\u001b[0m     \u001b[0;32mexcept\u001b[0m \u001b[0merrors\u001b[0m\u001b[0;34m.\u001b[0m\u001b[0mOpError\u001b[0m \u001b[0;32mas\u001b[0m \u001b[0me\u001b[0m\u001b[0;34m:\u001b[0m\u001b[0;34m\u001b[0m\u001b[0;34m\u001b[0m\u001b[0m\n",
      "\u001b[0;32m~/anaconda3/envs/tensorflow/lib/python3.6/site-packages/tensorflow/python/client/session.py\u001b[0m in \u001b[0;36m_run_fn\u001b[0;34m(feed_dict, fetch_list, target_list, options, run_metadata)\u001b[0m\n\u001b[1;32m   1318\u001b[0m       return self._call_tf_sessionrun(\n\u001b[0;32m-> 1319\u001b[0;31m           options, feed_dict, fetch_list, target_list, run_metadata)\n\u001b[0m\u001b[1;32m   1320\u001b[0m \u001b[0;34m\u001b[0m\u001b[0m\n",
      "\u001b[0;32m~/anaconda3/envs/tensorflow/lib/python3.6/site-packages/tensorflow/python/client/session.py\u001b[0m in \u001b[0;36m_call_tf_sessionrun\u001b[0;34m(self, options, feed_dict, fetch_list, target_list, run_metadata)\u001b[0m\n\u001b[1;32m   1406\u001b[0m         \u001b[0mself\u001b[0m\u001b[0;34m.\u001b[0m\u001b[0m_session\u001b[0m\u001b[0;34m,\u001b[0m \u001b[0moptions\u001b[0m\u001b[0;34m,\u001b[0m \u001b[0mfeed_dict\u001b[0m\u001b[0;34m,\u001b[0m \u001b[0mfetch_list\u001b[0m\u001b[0;34m,\u001b[0m \u001b[0mtarget_list\u001b[0m\u001b[0;34m,\u001b[0m\u001b[0;34m\u001b[0m\u001b[0;34m\u001b[0m\u001b[0m\n\u001b[0;32m-> 1407\u001b[0;31m         run_metadata)\n\u001b[0m\u001b[1;32m   1408\u001b[0m \u001b[0;34m\u001b[0m\u001b[0m\n",
      "\u001b[0;31mUnknownError\u001b[0m: AttributeError: 'tuple' object has no attribute 'as_list'\nTraceback (most recent call last):\n\n  File \"/Users/lidianxiang/anaconda3/envs/tensorflow/lib/python3.6/site-packages/tensorflow/python/ops/script_ops.py\", line 206, in __call__\n    ret = func(*args)\n\n  File \"<ipython-input-57-96cc326f3fa4>\", line 6, in _rotated\n    shift_y,shift_x = np.array(image.shape.as_list()[:2],np.float32) / 2.\n\nAttributeError: 'tuple' object has no attribute 'as_list'\n\n\n\t [[{{node cond/PyFunc}} = PyFunc[Tin=[DT_FLOAT], Tout=[DT_DOUBLE], token=\"pyfunc_1\"](cond/Switch_1)]]\n\t [[{{node IteratorGetNext_1}} = IteratorGetNext[output_shapes=[<unknown>, [?]], output_types=[DT_FLOAT, DT_INT64], _device=\"/job:localhost/replica:0/task:0/device:CPU:0\"](OneShotIterator_1)]]",
      "\nDuring handling of the above exception, another exception occurred:\n",
      "\u001b[0;31mUnknownError\u001b[0mTraceback (most recent call last)",
      "\u001b[0;32m<ipython-input-62-77d5fef43b89>\u001b[0m in \u001b[0;36m<module>\u001b[0;34m\u001b[0m\n\u001b[1;32m      5\u001b[0m         \u001b[0;32mfor\u001b[0m \u001b[0mstep\u001b[0m \u001b[0;32min\u001b[0m \u001b[0mnp\u001b[0m\u001b[0;34m.\u001b[0m\u001b[0marange\u001b[0m\u001b[0;34m(\u001b[0m\u001b[0;36m1\u001b[0m\u001b[0;34m)\u001b[0m\u001b[0;34m:\u001b[0m\u001b[0;34m\u001b[0m\u001b[0;34m\u001b[0m\u001b[0m\n\u001b[1;32m      6\u001b[0m             \u001b[0mvalue\u001b[0m \u001b[0;34m=\u001b[0m \u001b[0msess\u001b[0m\u001b[0;34m.\u001b[0m\u001b[0mrun\u001b[0m\u001b[0;34m(\u001b[0m\u001b[0mone_element1\u001b[0m\u001b[0;34m)\u001b[0m\u001b[0;34m\u001b[0m\u001b[0;34m\u001b[0m\u001b[0m\n\u001b[0;32m----> 7\u001b[0;31m             \u001b[0mvalue2\u001b[0m \u001b[0;34m=\u001b[0m \u001b[0msess\u001b[0m\u001b[0;34m.\u001b[0m\u001b[0mrun\u001b[0m\u001b[0;34m(\u001b[0m\u001b[0mone_element2\u001b[0m\u001b[0;34m)\u001b[0m\u001b[0;34m\u001b[0m\u001b[0;34m\u001b[0m\u001b[0m\n\u001b[0m\u001b[1;32m      8\u001b[0m \u001b[0;34m\u001b[0m\u001b[0m\n\u001b[1;32m      9\u001b[0m             \u001b[0mshowimg\u001b[0m\u001b[0;34m(\u001b[0m\u001b[0mstep\u001b[0m\u001b[0;34m,\u001b[0m\u001b[0mvalue\u001b[0m\u001b[0;34m[\u001b[0m\u001b[0;36m1\u001b[0m\u001b[0;34m]\u001b[0m\u001b[0;34m,\u001b[0m\u001b[0mnp\u001b[0m\u001b[0;34m.\u001b[0m\u001b[0masarray\u001b[0m\u001b[0;34m(\u001b[0m\u001b[0mvalue\u001b[0m\u001b[0;34m[\u001b[0m\u001b[0;36m0\u001b[0m\u001b[0;34m]\u001b[0m\u001b[0;34m*\u001b[0m\u001b[0;36m255\u001b[0m\u001b[0;34m,\u001b[0m\u001b[0mnp\u001b[0m\u001b[0;34m.\u001b[0m\u001b[0muint8\u001b[0m\u001b[0;34m)\u001b[0m\u001b[0;34m,\u001b[0m\u001b[0;36m10\u001b[0m\u001b[0;34m)\u001b[0m\u001b[0;34m\u001b[0m\u001b[0;34m\u001b[0m\u001b[0m\n",
      "\u001b[0;32m~/anaconda3/envs/tensorflow/lib/python3.6/site-packages/tensorflow/python/client/session.py\u001b[0m in \u001b[0;36mrun\u001b[0;34m(self, fetches, feed_dict, options, run_metadata)\u001b[0m\n\u001b[1;32m    927\u001b[0m     \u001b[0;32mtry\u001b[0m\u001b[0;34m:\u001b[0m\u001b[0;34m\u001b[0m\u001b[0;34m\u001b[0m\u001b[0m\n\u001b[1;32m    928\u001b[0m       result = self._run(None, fetches, feed_dict, options_ptr,\n\u001b[0;32m--> 929\u001b[0;31m                          run_metadata_ptr)\n\u001b[0m\u001b[1;32m    930\u001b[0m       \u001b[0;32mif\u001b[0m \u001b[0mrun_metadata\u001b[0m\u001b[0;34m:\u001b[0m\u001b[0;34m\u001b[0m\u001b[0;34m\u001b[0m\u001b[0m\n\u001b[1;32m    931\u001b[0m         \u001b[0mproto_data\u001b[0m \u001b[0;34m=\u001b[0m \u001b[0mtf_session\u001b[0m\u001b[0;34m.\u001b[0m\u001b[0mTF_GetBuffer\u001b[0m\u001b[0;34m(\u001b[0m\u001b[0mrun_metadata_ptr\u001b[0m\u001b[0;34m)\u001b[0m\u001b[0;34m\u001b[0m\u001b[0;34m\u001b[0m\u001b[0m\n",
      "\u001b[0;32m~/anaconda3/envs/tensorflow/lib/python3.6/site-packages/tensorflow/python/client/session.py\u001b[0m in \u001b[0;36m_run\u001b[0;34m(self, handle, fetches, feed_dict, options, run_metadata)\u001b[0m\n\u001b[1;32m   1150\u001b[0m     \u001b[0;32mif\u001b[0m \u001b[0mfinal_fetches\u001b[0m \u001b[0;32mor\u001b[0m \u001b[0mfinal_targets\u001b[0m \u001b[0;32mor\u001b[0m \u001b[0;34m(\u001b[0m\u001b[0mhandle\u001b[0m \u001b[0;32mand\u001b[0m \u001b[0mfeed_dict_tensor\u001b[0m\u001b[0;34m)\u001b[0m\u001b[0;34m:\u001b[0m\u001b[0;34m\u001b[0m\u001b[0;34m\u001b[0m\u001b[0m\n\u001b[1;32m   1151\u001b[0m       results = self._do_run(handle, final_targets, final_fetches,\n\u001b[0;32m-> 1152\u001b[0;31m                              feed_dict_tensor, options, run_metadata)\n\u001b[0m\u001b[1;32m   1153\u001b[0m     \u001b[0;32melse\u001b[0m\u001b[0;34m:\u001b[0m\u001b[0;34m\u001b[0m\u001b[0;34m\u001b[0m\u001b[0m\n\u001b[1;32m   1154\u001b[0m       \u001b[0mresults\u001b[0m \u001b[0;34m=\u001b[0m \u001b[0;34m[\u001b[0m\u001b[0;34m]\u001b[0m\u001b[0;34m\u001b[0m\u001b[0;34m\u001b[0m\u001b[0m\n",
      "\u001b[0;32m~/anaconda3/envs/tensorflow/lib/python3.6/site-packages/tensorflow/python/client/session.py\u001b[0m in \u001b[0;36m_do_run\u001b[0;34m(self, handle, target_list, fetch_list, feed_dict, options, run_metadata)\u001b[0m\n\u001b[1;32m   1326\u001b[0m     \u001b[0;32mif\u001b[0m \u001b[0mhandle\u001b[0m \u001b[0;32mis\u001b[0m \u001b[0;32mNone\u001b[0m\u001b[0;34m:\u001b[0m\u001b[0;34m\u001b[0m\u001b[0;34m\u001b[0m\u001b[0m\n\u001b[1;32m   1327\u001b[0m       return self._do_call(_run_fn, feeds, fetches, targets, options,\n\u001b[0;32m-> 1328\u001b[0;31m                            run_metadata)\n\u001b[0m\u001b[1;32m   1329\u001b[0m     \u001b[0;32melse\u001b[0m\u001b[0;34m:\u001b[0m\u001b[0;34m\u001b[0m\u001b[0;34m\u001b[0m\u001b[0m\n\u001b[1;32m   1330\u001b[0m       \u001b[0;32mreturn\u001b[0m \u001b[0mself\u001b[0m\u001b[0;34m.\u001b[0m\u001b[0m_do_call\u001b[0m\u001b[0;34m(\u001b[0m\u001b[0m_prun_fn\u001b[0m\u001b[0;34m,\u001b[0m \u001b[0mhandle\u001b[0m\u001b[0;34m,\u001b[0m \u001b[0mfeeds\u001b[0m\u001b[0;34m,\u001b[0m \u001b[0mfetches\u001b[0m\u001b[0;34m)\u001b[0m\u001b[0;34m\u001b[0m\u001b[0;34m\u001b[0m\u001b[0m\n",
      "\u001b[0;32m~/anaconda3/envs/tensorflow/lib/python3.6/site-packages/tensorflow/python/client/session.py\u001b[0m in \u001b[0;36m_do_call\u001b[0;34m(self, fn, *args)\u001b[0m\n\u001b[1;32m   1346\u001b[0m           \u001b[0;32mpass\u001b[0m\u001b[0;34m\u001b[0m\u001b[0;34m\u001b[0m\u001b[0m\n\u001b[1;32m   1347\u001b[0m       \u001b[0mmessage\u001b[0m \u001b[0;34m=\u001b[0m \u001b[0merror_interpolation\u001b[0m\u001b[0;34m.\u001b[0m\u001b[0minterpolate\u001b[0m\u001b[0;34m(\u001b[0m\u001b[0mmessage\u001b[0m\u001b[0;34m,\u001b[0m \u001b[0mself\u001b[0m\u001b[0;34m.\u001b[0m\u001b[0m_graph\u001b[0m\u001b[0;34m)\u001b[0m\u001b[0;34m\u001b[0m\u001b[0;34m\u001b[0m\u001b[0m\n\u001b[0;32m-> 1348\u001b[0;31m       \u001b[0;32mraise\u001b[0m \u001b[0mtype\u001b[0m\u001b[0;34m(\u001b[0m\u001b[0me\u001b[0m\u001b[0;34m)\u001b[0m\u001b[0;34m(\u001b[0m\u001b[0mnode_def\u001b[0m\u001b[0;34m,\u001b[0m \u001b[0mop\u001b[0m\u001b[0;34m,\u001b[0m \u001b[0mmessage\u001b[0m\u001b[0;34m)\u001b[0m\u001b[0;34m\u001b[0m\u001b[0;34m\u001b[0m\u001b[0m\n\u001b[0m\u001b[1;32m   1349\u001b[0m \u001b[0;34m\u001b[0m\u001b[0m\n\u001b[1;32m   1350\u001b[0m   \u001b[0;32mdef\u001b[0m \u001b[0m_extend_graph\u001b[0m\u001b[0;34m(\u001b[0m\u001b[0mself\u001b[0m\u001b[0;34m)\u001b[0m\u001b[0;34m:\u001b[0m\u001b[0;34m\u001b[0m\u001b[0;34m\u001b[0m\u001b[0m\n",
      "\u001b[0;31mUnknownError\u001b[0m: AttributeError: 'tuple' object has no attribute 'as_list'\nTraceback (most recent call last):\n\n  File \"/Users/lidianxiang/anaconda3/envs/tensorflow/lib/python3.6/site-packages/tensorflow/python/ops/script_ops.py\", line 206, in __call__\n    ret = func(*args)\n\n  File \"<ipython-input-57-96cc326f3fa4>\", line 6, in _rotated\n    shift_y,shift_x = np.array(image.shape.as_list()[:2],np.float32) / 2.\n\nAttributeError: 'tuple' object has no attribute 'as_list'\n\n\n\t [[{{node cond/PyFunc}} = PyFunc[Tin=[DT_FLOAT], Tout=[DT_DOUBLE], token=\"pyfunc_1\"](cond/Switch_1)]]\n\t [[node IteratorGetNext_1 (defined at <ipython-input-59-6969cce41294>:18)  = IteratorGetNext[output_shapes=[<unknown>, [?]], output_types=[DT_FLOAT, DT_INT64], _device=\"/job:localhost/replica:0/task:0/device:CPU:0\"](OneShotIterator_1)]]"
     ]
    }
   ],
   "source": [
    "with tf.Session() as sess:\n",
    "    sess.run(tf.global_variables_initializer())\n",
    "    \n",
    "    try:\n",
    "        for step in np.arange(1):\n",
    "            value = sess.run(one_element1)\n",
    "            value2 = sess.run(one_element2)\n",
    "            \n",
    "            showimg(step,value[1],np.asarray(value[0]*255,np.uint8),10) \n",
    "            showimg(step,value2[1],np.asarray(value2[0]*255,np.uint8),10) \n",
    "    except tf.errors.OutOfRangeError:\n",
    "        print(\"Done!!!\") "
   ]
  },
  {
   "cell_type": "code",
   "execution_count": 64,
   "metadata": {},
   "outputs": [
    {
     "name": "stdout",
     "output_type": "stream",
     "text": [
      "loading sample  dataset..\n",
      "loading sample  dataset..\n",
      "loading sample  dataset..\n",
      "(tf.float32, tf.int32)\n",
      "(TensorShape([Dimension(None), Dimension(96), Dimension(96), Dimension(None)]), TensorShape([Dimension(None)]))\n"
     ]
    },
    {
     "ename": "UnknownError",
     "evalue": "AttributeError: 'tuple' object has no attribute 'as_list'\nTraceback (most recent call last):\n\n  File \"/Users/lidianxiang/anaconda3/envs/tensorflow/lib/python3.6/site-packages/tensorflow/python/ops/script_ops.py\", line 206, in __call__\n    ret = func(*args)\n\n  File \"<ipython-input-64-de2fd48cad41>\", line 69, in _rotated\n    shift_y, shift_x = np.array(image.shape.as_list()[:2],np.float32) / 2.\n\nAttributeError: 'tuple' object has no attribute 'as_list'\n\n\n\t [[{{node cond/PyFunc}} = PyFunc[Tin=[DT_FLOAT], Tout=[DT_DOUBLE], token=\"pyfunc_2\"](cond/Switch_1)]]\n\t [[node IteratorGetNext_3 (defined at <ipython-input-64-de2fd48cad41>:134)  = IteratorGetNext[output_shapes=[<unknown>, [?]], output_types=[DT_FLOAT, DT_INT32], _device=\"/job:localhost/replica:0/task:0/device:CPU:0\"](OneShotIterator_3)]]",
     "output_type": "error",
     "traceback": [
      "\u001b[0;31m-------------------------------\u001b[0m",
      "\u001b[0;31mUnknownError\u001b[0mTraceback (most recent call last)",
      "\u001b[0;32m~/anaconda3/envs/tensorflow/lib/python3.6/site-packages/tensorflow/python/client/session.py\u001b[0m in \u001b[0;36m_do_call\u001b[0;34m(self, fn, *args)\u001b[0m\n\u001b[1;32m   1333\u001b[0m     \u001b[0;32mtry\u001b[0m\u001b[0;34m:\u001b[0m\u001b[0;34m\u001b[0m\u001b[0;34m\u001b[0m\u001b[0m\n\u001b[0;32m-> 1334\u001b[0;31m       \u001b[0;32mreturn\u001b[0m \u001b[0mfn\u001b[0m\u001b[0;34m(\u001b[0m\u001b[0;34m*\u001b[0m\u001b[0margs\u001b[0m\u001b[0;34m)\u001b[0m\u001b[0;34m\u001b[0m\u001b[0;34m\u001b[0m\u001b[0m\n\u001b[0m\u001b[1;32m   1335\u001b[0m     \u001b[0;32mexcept\u001b[0m \u001b[0merrors\u001b[0m\u001b[0;34m.\u001b[0m\u001b[0mOpError\u001b[0m \u001b[0;32mas\u001b[0m \u001b[0me\u001b[0m\u001b[0;34m:\u001b[0m\u001b[0;34m\u001b[0m\u001b[0;34m\u001b[0m\u001b[0m\n",
      "\u001b[0;32m~/anaconda3/envs/tensorflow/lib/python3.6/site-packages/tensorflow/python/client/session.py\u001b[0m in \u001b[0;36m_run_fn\u001b[0;34m(feed_dict, fetch_list, target_list, options, run_metadata)\u001b[0m\n\u001b[1;32m   1318\u001b[0m       return self._call_tf_sessionrun(\n\u001b[0;32m-> 1319\u001b[0;31m           options, feed_dict, fetch_list, target_list, run_metadata)\n\u001b[0m\u001b[1;32m   1320\u001b[0m \u001b[0;34m\u001b[0m\u001b[0m\n",
      "\u001b[0;32m~/anaconda3/envs/tensorflow/lib/python3.6/site-packages/tensorflow/python/client/session.py\u001b[0m in \u001b[0;36m_call_tf_sessionrun\u001b[0;34m(self, options, feed_dict, fetch_list, target_list, run_metadata)\u001b[0m\n\u001b[1;32m   1406\u001b[0m         \u001b[0mself\u001b[0m\u001b[0;34m.\u001b[0m\u001b[0m_session\u001b[0m\u001b[0;34m,\u001b[0m \u001b[0moptions\u001b[0m\u001b[0;34m,\u001b[0m \u001b[0mfeed_dict\u001b[0m\u001b[0;34m,\u001b[0m \u001b[0mfetch_list\u001b[0m\u001b[0;34m,\u001b[0m \u001b[0mtarget_list\u001b[0m\u001b[0;34m,\u001b[0m\u001b[0;34m\u001b[0m\u001b[0;34m\u001b[0m\u001b[0m\n\u001b[0;32m-> 1407\u001b[0;31m         run_metadata)\n\u001b[0m\u001b[1;32m   1408\u001b[0m \u001b[0;34m\u001b[0m\u001b[0m\n",
      "\u001b[0;31mUnknownError\u001b[0m: AttributeError: 'tuple' object has no attribute 'as_list'\nTraceback (most recent call last):\n\n  File \"/Users/lidianxiang/anaconda3/envs/tensorflow/lib/python3.6/site-packages/tensorflow/python/ops/script_ops.py\", line 206, in __call__\n    ret = func(*args)\n\n  File \"<ipython-input-64-de2fd48cad41>\", line 69, in _rotated\n    shift_y, shift_x = np.array(image.shape.as_list()[:2],np.float32) / 2.\n\nAttributeError: 'tuple' object has no attribute 'as_list'\n\n\n\t [[{{node cond/PyFunc}} = PyFunc[Tin=[DT_FLOAT], Tout=[DT_DOUBLE], token=\"pyfunc_2\"](cond/Switch_1)]]\n\t [[{{node IteratorGetNext_3}} = IteratorGetNext[output_shapes=[<unknown>, [?]], output_types=[DT_FLOAT, DT_INT32], _device=\"/job:localhost/replica:0/task:0/device:CPU:0\"](OneShotIterator_3)]]",
      "\nDuring handling of the above exception, another exception occurred:\n",
      "\u001b[0;31mUnknownError\u001b[0mTraceback (most recent call last)",
      "\u001b[0;32m<ipython-input-64-de2fd48cad41>\u001b[0m in \u001b[0;36m<module>\u001b[0;34m\u001b[0m\n\u001b[1;32m    153\u001b[0m         \u001b[0;32mfor\u001b[0m \u001b[0mstep\u001b[0m \u001b[0;32min\u001b[0m \u001b[0mnp\u001b[0m\u001b[0;34m.\u001b[0m\u001b[0marange\u001b[0m\u001b[0;34m(\u001b[0m\u001b[0;36m1\u001b[0m\u001b[0;34m)\u001b[0m\u001b[0;34m:\u001b[0m\u001b[0;34m\u001b[0m\u001b[0;34m\u001b[0m\u001b[0m\n\u001b[1;32m    154\u001b[0m             \u001b[0mvalue\u001b[0m \u001b[0;34m=\u001b[0m \u001b[0msess\u001b[0m\u001b[0;34m.\u001b[0m\u001b[0mrun\u001b[0m\u001b[0;34m(\u001b[0m\u001b[0mone_element1\u001b[0m\u001b[0;34m)\u001b[0m\u001b[0;34m\u001b[0m\u001b[0;34m\u001b[0m\u001b[0m\n\u001b[0;32m--> 155\u001b[0;31m             \u001b[0mvalue2\u001b[0m \u001b[0;34m=\u001b[0m \u001b[0msess\u001b[0m\u001b[0;34m.\u001b[0m\u001b[0mrun\u001b[0m\u001b[0;34m(\u001b[0m\u001b[0mone_element2\u001b[0m\u001b[0;34m)\u001b[0m\u001b[0;34m\u001b[0m\u001b[0;34m\u001b[0m\u001b[0m\n\u001b[0m\u001b[1;32m    156\u001b[0m \u001b[0;34m\u001b[0m\u001b[0m\n\u001b[1;32m    157\u001b[0m             \u001b[0mshowimg\u001b[0m\u001b[0;34m(\u001b[0m\u001b[0mstep\u001b[0m\u001b[0;34m,\u001b[0m\u001b[0mvalue\u001b[0m\u001b[0;34m[\u001b[0m\u001b[0;36m1\u001b[0m\u001b[0;34m]\u001b[0m\u001b[0;34m,\u001b[0m\u001b[0mnp\u001b[0m\u001b[0;34m.\u001b[0m\u001b[0masarray\u001b[0m\u001b[0;34m(\u001b[0m \u001b[0mvalue\u001b[0m\u001b[0;34m[\u001b[0m\u001b[0;36m0\u001b[0m\u001b[0;34m]\u001b[0m\u001b[0;34m*\u001b[0m\u001b[0;36m255\u001b[0m\u001b[0;34m,\u001b[0m\u001b[0mnp\u001b[0m\u001b[0;34m.\u001b[0m\u001b[0muint8\u001b[0m\u001b[0;34m)\u001b[0m\u001b[0;34m,\u001b[0m\u001b[0;36m10\u001b[0m\u001b[0;34m)\u001b[0m       \u001b[0;31m#显示图片\u001b[0m\u001b[0;34m\u001b[0m\u001b[0;34m\u001b[0m\u001b[0m\n",
      "\u001b[0;32m~/anaconda3/envs/tensorflow/lib/python3.6/site-packages/tensorflow/python/client/session.py\u001b[0m in \u001b[0;36mrun\u001b[0;34m(self, fetches, feed_dict, options, run_metadata)\u001b[0m\n\u001b[1;32m    927\u001b[0m     \u001b[0;32mtry\u001b[0m\u001b[0;34m:\u001b[0m\u001b[0;34m\u001b[0m\u001b[0;34m\u001b[0m\u001b[0m\n\u001b[1;32m    928\u001b[0m       result = self._run(None, fetches, feed_dict, options_ptr,\n\u001b[0;32m--> 929\u001b[0;31m                          run_metadata_ptr)\n\u001b[0m\u001b[1;32m    930\u001b[0m       \u001b[0;32mif\u001b[0m \u001b[0mrun_metadata\u001b[0m\u001b[0;34m:\u001b[0m\u001b[0;34m\u001b[0m\u001b[0;34m\u001b[0m\u001b[0m\n\u001b[1;32m    931\u001b[0m         \u001b[0mproto_data\u001b[0m \u001b[0;34m=\u001b[0m \u001b[0mtf_session\u001b[0m\u001b[0;34m.\u001b[0m\u001b[0mTF_GetBuffer\u001b[0m\u001b[0;34m(\u001b[0m\u001b[0mrun_metadata_ptr\u001b[0m\u001b[0;34m)\u001b[0m\u001b[0;34m\u001b[0m\u001b[0;34m\u001b[0m\u001b[0m\n",
      "\u001b[0;32m~/anaconda3/envs/tensorflow/lib/python3.6/site-packages/tensorflow/python/client/session.py\u001b[0m in \u001b[0;36m_run\u001b[0;34m(self, handle, fetches, feed_dict, options, run_metadata)\u001b[0m\n\u001b[1;32m   1150\u001b[0m     \u001b[0;32mif\u001b[0m \u001b[0mfinal_fetches\u001b[0m \u001b[0;32mor\u001b[0m \u001b[0mfinal_targets\u001b[0m \u001b[0;32mor\u001b[0m \u001b[0;34m(\u001b[0m\u001b[0mhandle\u001b[0m \u001b[0;32mand\u001b[0m \u001b[0mfeed_dict_tensor\u001b[0m\u001b[0;34m)\u001b[0m\u001b[0;34m:\u001b[0m\u001b[0;34m\u001b[0m\u001b[0;34m\u001b[0m\u001b[0m\n\u001b[1;32m   1151\u001b[0m       results = self._do_run(handle, final_targets, final_fetches,\n\u001b[0;32m-> 1152\u001b[0;31m                              feed_dict_tensor, options, run_metadata)\n\u001b[0m\u001b[1;32m   1153\u001b[0m     \u001b[0;32melse\u001b[0m\u001b[0;34m:\u001b[0m\u001b[0;34m\u001b[0m\u001b[0;34m\u001b[0m\u001b[0m\n\u001b[1;32m   1154\u001b[0m       \u001b[0mresults\u001b[0m \u001b[0;34m=\u001b[0m \u001b[0;34m[\u001b[0m\u001b[0;34m]\u001b[0m\u001b[0;34m\u001b[0m\u001b[0;34m\u001b[0m\u001b[0m\n",
      "\u001b[0;32m~/anaconda3/envs/tensorflow/lib/python3.6/site-packages/tensorflow/python/client/session.py\u001b[0m in \u001b[0;36m_do_run\u001b[0;34m(self, handle, target_list, fetch_list, feed_dict, options, run_metadata)\u001b[0m\n\u001b[1;32m   1326\u001b[0m     \u001b[0;32mif\u001b[0m \u001b[0mhandle\u001b[0m \u001b[0;32mis\u001b[0m \u001b[0;32mNone\u001b[0m\u001b[0;34m:\u001b[0m\u001b[0;34m\u001b[0m\u001b[0;34m\u001b[0m\u001b[0m\n\u001b[1;32m   1327\u001b[0m       return self._do_call(_run_fn, feeds, fetches, targets, options,\n\u001b[0;32m-> 1328\u001b[0;31m                            run_metadata)\n\u001b[0m\u001b[1;32m   1329\u001b[0m     \u001b[0;32melse\u001b[0m\u001b[0;34m:\u001b[0m\u001b[0;34m\u001b[0m\u001b[0;34m\u001b[0m\u001b[0m\n\u001b[1;32m   1330\u001b[0m       \u001b[0;32mreturn\u001b[0m \u001b[0mself\u001b[0m\u001b[0;34m.\u001b[0m\u001b[0m_do_call\u001b[0m\u001b[0;34m(\u001b[0m\u001b[0m_prun_fn\u001b[0m\u001b[0;34m,\u001b[0m \u001b[0mhandle\u001b[0m\u001b[0;34m,\u001b[0m \u001b[0mfeeds\u001b[0m\u001b[0;34m,\u001b[0m \u001b[0mfetches\u001b[0m\u001b[0;34m)\u001b[0m\u001b[0;34m\u001b[0m\u001b[0;34m\u001b[0m\u001b[0m\n",
      "\u001b[0;32m~/anaconda3/envs/tensorflow/lib/python3.6/site-packages/tensorflow/python/client/session.py\u001b[0m in \u001b[0;36m_do_call\u001b[0;34m(self, fn, *args)\u001b[0m\n\u001b[1;32m   1346\u001b[0m           \u001b[0;32mpass\u001b[0m\u001b[0;34m\u001b[0m\u001b[0;34m\u001b[0m\u001b[0m\n\u001b[1;32m   1347\u001b[0m       \u001b[0mmessage\u001b[0m \u001b[0;34m=\u001b[0m \u001b[0merror_interpolation\u001b[0m\u001b[0;34m.\u001b[0m\u001b[0minterpolate\u001b[0m\u001b[0;34m(\u001b[0m\u001b[0mmessage\u001b[0m\u001b[0;34m,\u001b[0m \u001b[0mself\u001b[0m\u001b[0;34m.\u001b[0m\u001b[0m_graph\u001b[0m\u001b[0;34m)\u001b[0m\u001b[0;34m\u001b[0m\u001b[0;34m\u001b[0m\u001b[0m\n\u001b[0;32m-> 1348\u001b[0;31m       \u001b[0;32mraise\u001b[0m \u001b[0mtype\u001b[0m\u001b[0;34m(\u001b[0m\u001b[0me\u001b[0m\u001b[0;34m)\u001b[0m\u001b[0;34m(\u001b[0m\u001b[0mnode_def\u001b[0m\u001b[0;34m,\u001b[0m \u001b[0mop\u001b[0m\u001b[0;34m,\u001b[0m \u001b[0mmessage\u001b[0m\u001b[0;34m)\u001b[0m\u001b[0;34m\u001b[0m\u001b[0;34m\u001b[0m\u001b[0m\n\u001b[0m\u001b[1;32m   1349\u001b[0m \u001b[0;34m\u001b[0m\u001b[0m\n\u001b[1;32m   1350\u001b[0m   \u001b[0;32mdef\u001b[0m \u001b[0m_extend_graph\u001b[0m\u001b[0;34m(\u001b[0m\u001b[0mself\u001b[0m\u001b[0;34m)\u001b[0m\u001b[0;34m:\u001b[0m\u001b[0;34m\u001b[0m\u001b[0;34m\u001b[0m\u001b[0m\n",
      "\u001b[0;31mUnknownError\u001b[0m: AttributeError: 'tuple' object has no attribute 'as_list'\nTraceback (most recent call last):\n\n  File \"/Users/lidianxiang/anaconda3/envs/tensorflow/lib/python3.6/site-packages/tensorflow/python/ops/script_ops.py\", line 206, in __call__\n    ret = func(*args)\n\n  File \"<ipython-input-64-de2fd48cad41>\", line 69, in _rotated\n    shift_y, shift_x = np.array(image.shape.as_list()[:2],np.float32) / 2.\n\nAttributeError: 'tuple' object has no attribute 'as_list'\n\n\n\t [[{{node cond/PyFunc}} = PyFunc[Tin=[DT_FLOAT], Tout=[DT_DOUBLE], token=\"pyfunc_2\"](cond/Switch_1)]]\n\t [[node IteratorGetNext_3 (defined at <ipython-input-64-de2fd48cad41>:134)  = IteratorGetNext[output_shapes=[<unknown>, [?]], output_types=[DT_FLOAT, DT_INT32], _device=\"/job:localhost/replica:0/task:0/device:CPU:0\"](OneShotIterator_3)]]"
     ]
    }
   ],
   "source": [
    "\"\"\"\n",
    "@author: 代码医生工作室\n",
    "@公众号：xiangyuejiqiren   （内有更多优秀文章及学习资料）\n",
    "@来源: <深度学习之TensorFlow工程化项目实战>配套代码 （700+页）\n",
    "@配套代码技术支持：bbs.aianaconda.com      (有问必答)\n",
    "\"\"\"\n",
    "import os\n",
    "import tensorflow as tf\n",
    "\n",
    "from sklearn.utils import shuffle\n",
    "import numpy as np\n",
    "import matplotlib.pyplot as plt\n",
    "\n",
    "def load_sample(sample_dir,shuffleflag = True):\n",
    "    '''递归读取文件。只支持一级。返回文件名、数值标签、数值对应的标签名'''\n",
    "    print ('loading sample  dataset..')\n",
    "    lfilenames = []\n",
    "    labelsnames = []\n",
    "    for (dirpath, dirnames, filenames) in os.walk(sample_dir):#递归遍历文件夹\n",
    "        for filename in filenames:                            #遍历所有文件名\n",
    "            #print(dirnames)\n",
    "            filename_path = os.sep.join([dirpath, filename])\n",
    "            lfilenames.append(filename_path)               #添加文件名\n",
    "            labelsnames.append( dirpath.split('\\\\')[-1] )#添加文件名对应的标签\n",
    "\n",
    "    lab= list(sorted(set(labelsnames)))  #生成标签名称列表\n",
    "    labdict=dict( zip( lab  ,list(range(len(lab)))  )) #生成字典\n",
    "\n",
    "    labels = [labdict[i] for i in labelsnames]\n",
    "    if shuffleflag == True:\n",
    "        return shuffle(np.asarray( lfilenames),np.asarray( labels)),np.asarray(lab)\n",
    "    else:\n",
    "        return (np.asarray( lfilenames),np.asarray( labels)),np.asarray(lab)\n",
    "\n",
    "\n",
    "\n",
    "directory='man_woman\\\\'                                                     #定义样本路径\n",
    "(filenames,labels),_ =load_sample(directory,shuffleflag=False) #载入文件名称与标签\n",
    "\n",
    "\n",
    "def _distorted_image(image,size,ch=1,shuffleflag = False,cropflag  = False,\n",
    "                     brightnessflag=False,contrastflag=False):    #定义函数，实现变化图片\n",
    "    distorted_image =tf.image.random_flip_left_right(image)\n",
    "\n",
    "    if cropflag == True:                                                #随机裁剪\n",
    "        s = tf.random_uniform((1,2),int(size[0]*0.8),size[0],tf.int32)\n",
    "        distorted_image = tf.random_crop(distorted_image, [s[0][0],s[0][0],ch])\n",
    "\n",
    "    distorted_image = tf.image.random_flip_up_down(distorted_image)#上下随机翻转\n",
    "    if brightnessflag == True:#随机变化亮度\n",
    "        distorted_image = tf.image.random_brightness(distorted_image,max_delta=10)\n",
    "    if contrastflag == True:   #随机变化对比度\n",
    "        distorted_image = tf.image.random_contrast(distorted_image,lower=0.2, upper=1.8)\n",
    "    if shuffleflag==True:\n",
    "        distorted_image = tf.random_shuffle(distorted_image)#沿着第0维乱序\n",
    "    return distorted_image\n",
    "\n",
    "\n",
    "def _norm_image(image,size,ch=1,flattenflag = False):    #定义函数，实现归一化，并且拍平\n",
    "    image_decoded = image/255.0\n",
    "    if flattenflag==True:\n",
    "        image_decoded = tf.reshape(image_decoded, [size[0]*size[1]*ch])\n",
    "    return image_decoded\n",
    "\n",
    "from skimage import transform\n",
    "def _random_rotated30(image, label): #定义函数实现图片随机旋转操作\n",
    "\n",
    "    def _rotated(image):                #封装好的skimage模块，来进行图片旋转30度\n",
    "        shift_y, shift_x = np.array(image.shape.as_list()[:2],np.float32) / 2.\n",
    "        tf_rotate = transform.SimilarityTransform(rotation=np.deg2rad(30))\n",
    "        tf_shift = transform.SimilarityTransform(translation=[-shift_x, -shift_y])\n",
    "        tf_shift_inv = transform.SimilarityTransform(translation=[shift_x, shift_y])\n",
    "        image_rotated = transform.warp(image, (tf_shift + (tf_rotate + tf_shift_inv)).inverse)\n",
    "        return image_rotated\n",
    "\n",
    "    def _rotatedwrap():\n",
    "        image_rotated = tf.py_func( _rotated,[image],[tf.float64])   #调用第三方函数\n",
    "        return tf.cast(image_rotated,tf.float32)[0]\n",
    "\n",
    "    a = tf.random_uniform([1],0,2,tf.int32)#实现随机功能\n",
    "    image_decoded = tf.cond(tf.equal(tf.constant(0),a[0]),lambda: image,_rotatedwrap)\n",
    "\n",
    "    return image_decoded, label\n",
    "\n",
    "\n",
    "\n",
    "def dataset(directory,size,batchsize,random_rotated=False):#定义函数，创建数据集\n",
    "    \"\"\" parse  dataset.\"\"\"\n",
    "    (filenames,labels),_ =load_sample(directory,shuffleflag=False) #载入文件名称与标签\n",
    "    def _parseone(filename, label):                         #解析一个图片文件\n",
    "        \"\"\" Reading and handle  image\"\"\"\n",
    "        image_string = tf.read_file(filename)         #读取整个文件\n",
    "        image_decoded = tf.image.decode_image(image_string)\n",
    "        image_decoded.set_shape([None, None, None])    # 必须有这句，不然下面会转化失败\n",
    "        image_decoded = _distorted_image(image_decoded,size)#对图片做扭曲变化\n",
    "        image_decoded = tf.image.resize_images(image_decoded, size)  #变化尺寸\n",
    "        image_decoded = _norm_image(image_decoded,size)#归一化\n",
    "        image_decoded = tf.cast(image_decoded,dtype=tf.float32)\n",
    "        label = tf.cast(  tf.reshape(label, []) ,dtype=tf.int32  )#将label 转为张量\n",
    "        return image_decoded, label\n",
    "\n",
    "    dataset = tf.data.Dataset.from_tensor_slices((filenames, labels))#生成Dataset对象\n",
    "    dataset = dataset.map(_parseone)   #有图片内容的数据集\n",
    "\n",
    "    if random_rotated == True:\n",
    "        dataset = dataset.map(_random_rotated30)\n",
    "\n",
    "    dataset = dataset.batch(batchsize) #批次划分数据集\n",
    "\n",
    "    return dataset\n",
    "\n",
    "\n",
    "\n",
    "\n",
    "#如果显示有错，可以尝试使用np.reshape(thisimg, (size[0],size[1],3))或\n",
    "#np.asarray(thisimg[0], dtype='uint8')改变类型与形状\n",
    "def showresult(subplot,title,thisimg):          #显示单个图片\n",
    "    p =plt.subplot(subplot)\n",
    "    p.axis('off')\n",
    "    p.imshow(thisimg)\n",
    "    p.set_title(title)\n",
    "\n",
    "def showimg(index,label,img,ntop):   #显示\n",
    "    plt.figure(figsize=(20,10))     #定义显示图片的宽、高\n",
    "    plt.axis('off')\n",
    "    ntop = min(ntop,9)\n",
    "    print(index)\n",
    "    for i in range (ntop):\n",
    "        showresult(100+10*ntop+1+i,label[i],img[i])\n",
    "    plt.show()\n",
    "\n",
    "def getone(dataset):\n",
    "    iterator = dataset.make_one_shot_iterator()\t\t\t#生成一个迭代器\n",
    "    one_element = iterator.get_next()\t\t\t\t\t#从iterator里取出一个元素\n",
    "    return one_element\n",
    "\n",
    "sample_dir=r\"man_woman\"\n",
    "size = [96,96]\n",
    "batchsize = 10\n",
    "tdataset = dataset(sample_dir,size,batchsize)\n",
    "tdataset2 = dataset(sample_dir,size,batchsize,True)\n",
    "print(tdataset.output_types)  #打印数据集的输出信息\n",
    "print(tdataset.output_shapes)\n",
    "\n",
    "one_element1 = getone(tdataset)\t\t\t\t#从tdataset里取出一个元素\n",
    "one_element2 = getone(tdataset2)\t\t\t\t#从tdataset2里取出一个元素\n",
    "\n",
    "\n",
    "with tf.Session() as sess:\t# 建立会话（session）\n",
    "    sess.run(tf.global_variables_initializer())  #初始化\n",
    "\n",
    "    try:\n",
    "        for step in np.arange(1):\n",
    "            value = sess.run(one_element1)\n",
    "            value2 = sess.run(one_element2)\n",
    "\n",
    "            showimg(step,value[1],np.asarray( value[0]*255,np.uint8),10)       #显示图片\n",
    "            showimg(step,value2[1],np.asarray( value2[0]*255,np.uint8),10)       #显示图片\n",
    "\n",
    "\n",
    "    except tf.errors.OutOfRangeError:           #捕获异常\n",
    "        print(\"Done!!!\")\n",
    "\n",
    "\n",
    "\n"
   ]
  },
  {
   "cell_type": "code",
   "execution_count": null,
   "metadata": {},
   "outputs": [],
   "source": []
  }
 ],
 "metadata": {
  "kernelspec": {
   "display_name": "Python 3.6 (tensorflow)",
   "language": "python",
   "name": "tensorflow"
  },
  "language_info": {
   "codemirror_mode": {
    "name": "ipython",
    "version": 3
   },
   "file_extension": ".py",
   "mimetype": "text/x-python",
   "name": "python",
   "nbconvert_exporter": "python",
   "pygments_lexer": "ipython3",
   "version": "3.6.8"
  },
  "toc": {
   "base_numbering": 1,
   "nav_menu": {},
   "number_sections": true,
   "sideBar": true,
   "skip_h1_title": false,
   "title_cell": "Table of Contents",
   "title_sidebar": "Contents",
   "toc_cell": false,
   "toc_position": {},
   "toc_section_display": true,
   "toc_window_display": false
  }
 },
 "nbformat": 4,
 "nbformat_minor": 2
}
