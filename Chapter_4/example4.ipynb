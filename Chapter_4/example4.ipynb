{
 "cells": [
  {
   "cell_type": "code",
   "execution_count": 2,
   "metadata": {},
   "outputs": [],
   "source": [
    "import tensorflow as tf"
   ]
  },
  {
   "cell_type": "code",
   "execution_count": 3,
   "metadata": {},
   "outputs": [],
   "source": [
    "def read_data(file_queue):    #csv文件处理函数\n",
    "    reader = tf.TextLineReader(skip_header_lines=1) # 每次读取一行\n",
    "    key,value = reader.read(file_queue)\n",
    "    \n",
    "    defaults = [[0],[0.],[0.],[0.],[0.],[0]]  # 为每个字段设置初始值\n",
    "    csvcolumn = tf.decode_csv(value,defaults)  # tf.decode_csv对每一行进行解析\n",
    "    \n",
    "    featurecolumn = [i for i in csvcolumn[1:-1]]  # 分离出列中的样本数据列\n",
    "    labelcolumn = csvcolumn[-1]  # 分离出列中的标签数据列\n",
    "    \n",
    "    return tf.stack(featurecolumn),labelcolumn\n"
   ]
  },
  {
   "cell_type": "code",
   "execution_count": 4,
   "metadata": {},
   "outputs": [],
   "source": [
    "def create_pipeline(filename,batch_size,num_epochs=None):  # 创建队列数据集函数\n",
    "    # 创建一个输入队列\n",
    "    file_queue = tf.train.string_input_producer([filename],num_epochs=num_epochs)\n",
    "    \n",
    "    feature,label = read_data(file_queue)  # 载入数据和标签\n",
    "    \n",
    "    min_after_dequeue = 1000 # 设置队列中的最少数据条数（取完之后保证还有1000条）\n",
    "    capacity = min_after_dequeue + batch_size  # 队列的长度\n",
    "    \n",
    "    feature_batch,label_batch = tf.train.shuffle_batch(  # 生成乱序的批次数据\n",
    "        [feature,label],batch_size=batch_size,capacity=capacity,\n",
    "        min_after_dequeue=min_after_dequeue\n",
    "    )\n",
    "    return feature_batch,label_batch  # 返回指定批次的数据"
   ]
  },
  {
   "cell_type": "code",
   "execution_count": 5,
   "metadata": {},
   "outputs": [],
   "source": [
    "# 读取训练集\n",
    "x_train_batch, y_train_batch = create_pipeline('iris_training.csv',32,num_epochs=100)\n",
    "\n",
    "# 读取测试集\n",
    "x_test,y_test  = create_pipeline('iris_test.csv',32) "
   ]
  },
  {
   "cell_type": "code",
   "execution_count": null,
   "metadata": {},
   "outputs": [],
   "source": []
  }
 ],
 "metadata": {
  "kernelspec": {
   "display_name": "Python 3.6 (tensorflow)",
   "language": "python",
   "name": "tensorflow"
  },
  "language_info": {
   "codemirror_mode": {
    "name": "ipython",
    "version": 3
   },
   "file_extension": ".py",
   "mimetype": "text/x-python",
   "name": "python",
   "nbconvert_exporter": "python",
   "pygments_lexer": "ipython3",
   "version": "3.6.8"
  },
  "toc": {
   "base_numbering": 1,
   "nav_menu": {},
   "number_sections": true,
   "sideBar": true,
   "skip_h1_title": false,
   "title_cell": "Table of Contents",
   "title_sidebar": "Contents",
   "toc_cell": false,
   "toc_position": {},
   "toc_section_display": true,
   "toc_window_display": false
  }
 },
 "nbformat": 4,
 "nbformat_minor": 2
}
