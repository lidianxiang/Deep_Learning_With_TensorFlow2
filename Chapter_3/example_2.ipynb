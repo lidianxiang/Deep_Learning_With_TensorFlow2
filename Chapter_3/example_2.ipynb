{
 "cells": [
  {
   "cell_type": "markdown",
   "metadata": {},
   "source": [
    "##  实例2:将模拟数据制作成内存对象数据集"
   ]
  },
  {
   "cell_type": "code",
   "execution_count": 1,
   "metadata": {},
   "outputs": [],
   "source": [
    "import tensorflow as tf\n",
    "import numpy as np\n",
    "import matplotlib.pyplot as plt"
   ]
  },
  {
   "cell_type": "code",
   "execution_count": 8,
   "metadata": {},
   "outputs": [],
   "source": [
    "# 在内存中生成模拟数据\n",
    "def GenerateData(batchsize=100):\n",
    "    train_x = np.linspace(-1,1,batchsize)                      # 生成-1到1之间的100个浮点数\n",
    "    train_y = 2 * train_x + np.random.randn(*train_x.shape) * 0.3    #  y = 2 * x ,但是还加入了一些噪声\n",
    "    yield train_x,train_y"
   ]
  },
  {
   "cell_type": "code",
   "execution_count": 9,
   "metadata": {},
   "outputs": [],
   "source": [
    "# 定义模拟数据制作成内存对象数据集\n",
    "Xinput = tf.placeholder(\"float\",(None))\n",
    "Yinput = tf.placeholder(\"float\",(None)) "
   ]
  },
  {
   "cell_type": "code",
   "execution_count": 14,
   "metadata": {},
   "outputs": [
    {
     "name": "stdout",
     "output_type": "stream",
     "text": [
      "0 | x.shape: (100,) | x[:3]: [-1.         -0.97979796 -0.959596  ]\n",
      "0 | y.shape: (100,) | y[:3]: [-2.0478904 -2.3657722 -2.5368311]\n",
      "----------------------------------------------------------------------\n",
      "1 | x.shape: (100,) | x[:3]: [-1.         -0.97979796 -0.959596  ]\n",
      "1 | y.shape: (100,) | y[:3]: [-2.3804157 -2.1333778 -2.2869306]\n",
      "----------------------------------------------------------------------\n",
      "2 | x.shape: (100,) | x[:3]: [-1.         -0.97979796 -0.959596  ]\n",
      "2 | y.shape: (100,) | y[:3]: [-2.4110796 -1.8811418 -2.587183 ]\n",
      "----------------------------------------------------------------------\n",
      "3 | x.shape: (100,) | x[:3]: [-1.         -0.97979796 -0.959596  ]\n",
      "3 | y.shape: (100,) | y[:3]: [-2.1813755 -1.790365  -2.041586 ]\n",
      "----------------------------------------------------------------------\n",
      "4 | x.shape: (100,) | x[:3]: [-1.         -0.97979796 -0.959596  ]\n",
      "4 | y.shape: (100,) | y[:3]: [-1.8072706 -2.0352323 -1.8529906]\n",
      "----------------------------------------------------------------------\n",
      "5 | x.shape: (100,) | x[:3]: [-1.         -0.97979796 -0.959596  ]\n",
      "5 | y.shape: (100,) | y[:3]: [-1.7009937 -2.578744  -2.1807668]\n",
      "----------------------------------------------------------------------\n",
      "6 | x.shape: (100,) | x[:3]: [-1.         -0.97979796 -0.959596  ]\n",
      "6 | y.shape: (100,) | y[:3]: [-2.0316472 -2.072915  -2.0299358]\n",
      "----------------------------------------------------------------------\n",
      "7 | x.shape: (100,) | x[:3]: [-1.         -0.97979796 -0.959596  ]\n",
      "7 | y.shape: (100,) | y[:3]: [-1.313229  -1.7100091 -2.154111 ]\n",
      "----------------------------------------------------------------------\n",
      "8 | x.shape: (100,) | x[:3]: [-1.         -0.97979796 -0.959596  ]\n",
      "8 | y.shape: (100,) | y[:3]: [-2.146562  -1.9431866 -2.256648 ]\n",
      "----------------------------------------------------------------------\n",
      "9 | x.shape: (100,) | x[:3]: [-1.         -0.97979796 -0.959596  ]\n",
      "9 | y.shape: (100,) | y[:3]: [-1.8428009 -1.7269572 -1.7293757]\n",
      "----------------------------------------------------------------------\n",
      "10 | x.shape: (100,) | x[:3]: [-1.         -0.97979796 -0.959596  ]\n",
      "10 | y.shape: (100,) | y[:3]: [-1.8663939 -1.8914847 -2.2091181]\n",
      "----------------------------------------------------------------------\n",
      "11 | x.shape: (100,) | x[:3]: [-1.         -0.97979796 -0.959596  ]\n",
      "11 | y.shape: (100,) | y[:3]: [-2.6479535 -2.3366299 -1.6244565]\n",
      "----------------------------------------------------------------------\n",
      "12 | x.shape: (100,) | x[:3]: [-1.         -0.97979796 -0.959596  ]\n",
      "12 | y.shape: (100,) | y[:3]: [-1.241029  -1.9965581 -1.6797059]\n",
      "----------------------------------------------------------------------\n",
      "13 | x.shape: (100,) | x[:3]: [-1.         -0.97979796 -0.959596  ]\n",
      "13 | y.shape: (100,) | y[:3]: [-2.2186325 -1.8710017 -2.0879605]\n",
      "----------------------------------------------------------------------\n",
      "14 | x.shape: (100,) | x[:3]: [-1.         -0.97979796 -0.959596  ]\n",
      "14 | y.shape: (100,) | y[:3]: [-2.1639962 -2.2277477 -1.4879073]\n",
      "----------------------------------------------------------------------\n",
      "15 | x.shape: (100,) | x[:3]: [-1.         -0.97979796 -0.959596  ]\n",
      "15 | y.shape: (100,) | y[:3]: [-1.9395064 -1.8674164 -1.915678 ]\n",
      "----------------------------------------------------------------------\n",
      "16 | x.shape: (100,) | x[:3]: [-1.         -0.97979796 -0.959596  ]\n",
      "16 | y.shape: (100,) | y[:3]: [-1.9388618 -1.9215555 -2.0283904]\n",
      "----------------------------------------------------------------------\n",
      "17 | x.shape: (100,) | x[:3]: [-1.         -0.97979796 -0.959596  ]\n",
      "17 | y.shape: (100,) | y[:3]: [-2.1905563 -1.7495246 -1.9564099]\n",
      "----------------------------------------------------------------------\n",
      "18 | x.shape: (100,) | x[:3]: [-1.         -0.97979796 -0.959596  ]\n",
      "18 | y.shape: (100,) | y[:3]: [-2.327601  -2.178455  -2.2905078]\n",
      "----------------------------------------------------------------------\n",
      "19 | x.shape: (100,) | x[:3]: [-1.         -0.97979796 -0.959596  ]\n",
      "19 | y.shape: (100,) | y[:3]: [-1.5422305 -1.8505595 -2.058697 ]\n",
      "----------------------------------------------------------------------\n"
     ]
    }
   ],
   "source": [
    "# 建立会话，获取并输出数据\n",
    "training_epochs = 20 \n",
    "with tf.Session() as sess:\n",
    "    for epoch in range(training_epochs):\n",
    "        for x , y in GenerateData():\n",
    "            xv,yv = sess.run([Xinput,Yinput],feed_dict={Xinput:x,Yinput:y})\n",
    "            \n",
    "            # 打印数据\n",
    "            print(epoch,\"| x.shape:\",np.shape(xv),\"| x[:3]:\",xv[:3])\n",
    "            print(epoch,\"| y.shape:\",np.shape(yv),\"| y[:3]:\",yv[:3])\n",
    "            print('-'*70) "
   ]
  },
  {
   "cell_type": "code",
   "execution_count": 15,
   "metadata": {},
   "outputs": [
    {
     "data": {
      "image/png": "[encoded data removed]",
      "text/plain": [
       "<Figure size 432x288 with 1 Axes>"
      ]
     },
     "metadata": {
      "needs_background": "light"
     },
     "output_type": "display_data"
    }
   ],
   "source": [
    "# 显示模拟数据点\n",
    "train_data = list(GenerateData())[0]    # 获取数据\n",
    "plt.plot(train_data[0],train_data[1],'ro',label='Original data')   # 生成图像\n",
    "plt.legend()                            # 添加图例\n",
    "plt.show()                              # 显示图像"
   ]
  },
  {
   "cell_type": "markdown",
   "metadata": {},
   "source": [
    "## 创建带有迭代值并支持乱序功能的模拟数据集"
   ]
  },
  {
   "cell_type": "code",
   "execution_count": 23,
   "metadata": {},
   "outputs": [],
   "source": [
    "import tensorflow as tf\n",
    "import numpy as np\n",
    "import matplotlib.pyplot as plt\n",
    "from sklearn.utils import shuffle      # 导入sklearn库\n",
    "\n",
    "# 在内存中生成模拟数据\n",
    "def GenerateData(training_epochs,batchsize=100):\n",
    "    for i in range(training_epochs):\n",
    "        train_X = np.linspace(-1,1,batchsize)\n",
    "        train_Y = 2 * train_X + np.random.randn(*train_X.shape) * 0.3 \n",
    "        yield shuffle(train_X,train_Y),i "
   ]
  },
  {
   "cell_type": "code",
   "execution_count": 26,
   "metadata": {},
   "outputs": [
    {
     "name": "stdout",
     "output_type": "stream",
     "text": [
      "0 | x.shape: (100,) | x[:3] [-0.83838385  0.4949495  -0.43434343]\n",
      "0 | y.shape: (100,) | y[:3] [-1.6000564   0.59320647 -1.2382637 ]\n",
      "\n",
      "\n",
      "1 | x.shape: (100,) | x[:3] [-0.7373737   0.93939394 -0.959596  ]\n",
      "1 | y.shape: (100,) | y[:3] [-1.4902476  2.0215268 -2.244261 ]\n",
      "\n",
      "\n",
      "2 | x.shape: (100,) | x[:3] [-0.05050505  0.03030303 -0.7979798 ]\n",
      "2 | y.shape: (100,) | y[:3] [ 0.04084384 -0.09231765 -2.0866659 ]\n",
      "\n",
      "\n",
      "3 | x.shape: (100,) | x[:3] [-0.23232323  0.97979796 -0.05050505]\n",
      "3 | y.shape: (100,) | y[:3] [-0.2053234   2.3161254   0.65955126]\n",
      "\n",
      "\n",
      "4 | x.shape: (100,) | x[:3] [-0.35353535  0.41414142  0.6363636 ]\n",
      "4 | y.shape: (100,) | y[:3] [-0.7340241  0.9536547  0.863799 ]\n",
      "\n",
      "\n",
      "5 | x.shape: (100,) | x[:3] [-0.43434343  0.65656567 -0.65656567]\n",
      "5 | y.shape: (100,) | y[:3] [-0.9203406  1.4674218 -2.1312428]\n",
      "\n",
      "\n",
      "6 | x.shape: (100,) | x[:3] [-0.37373737  0.2929293  -0.27272728]\n",
      "6 | y.shape: (100,) | y[:3] [-0.825346    0.36512178 -0.9499833 ]\n",
      "\n",
      "\n",
      "7 | x.shape: (100,) | x[:3] [-0.03030303 -0.45454547  0.21212122]\n",
      "7 | y.shape: (100,) | y[:3] [ 0.01052244 -1.0256025   0.28598726]\n",
      "\n",
      "\n",
      "8 | x.shape: (100,) | x[:3] [-0.21212122  0.07070707 -0.47474748]\n",
      "8 | y.shape: (100,) | y[:3] [-0.36816043  0.12119254 -1.2383294 ]\n",
      "\n",
      "\n",
      "9 | x.shape: (100,) | x[:3] [ 0.97979796 -0.33333334 -0.35353535]\n",
      "9 | y.shape: (100,) | y[:3] [ 2.2341223 -1.097225  -0.2512151]\n",
      "\n",
      "\n",
      "10 | x.shape: (100,) | x[:3] [ 0.83838385 -0.3939394   0.25252524]\n",
      "10 | y.shape: (100,) | y[:3] [ 1.6681134  -0.22397855  0.65677774]\n",
      "\n",
      "\n",
      "11 | x.shape: (100,) | x[:3] [ 0.7777778   0.8989899  -0.65656567]\n",
      "11 | y.shape: (100,) | y[:3] [ 1.8884584  1.2087488 -1.2898619]\n",
      "\n",
      "\n",
      "12 | x.shape: (100,) | x[:3] [ 0.3939394  -0.61616164  0.57575756]\n",
      "12 | y.shape: (100,) | y[:3] [ 0.8266068 -1.3657233  0.486012 ]\n",
      "\n",
      "\n",
      "13 | x.shape: (100,) | x[:3] [-0.09090909 -0.61616164 -0.8181818 ]\n",
      "13 | y.shape: (100,) | y[:3] [-0.56450397 -1.3142246  -0.8850936 ]\n",
      "\n",
      "\n",
      "14 | x.shape: (100,) | x[:3] [-0.41414142 -0.959596   -0.35353535]\n",
      "14 | y.shape: (100,) | y[:3] [-0.79944414 -1.6599846  -0.7633465 ]\n",
      "\n",
      "\n",
      "15 | x.shape: (100,) | x[:3] [-0.3131313  0.7373737 -0.6969697]\n",
      "15 | y.shape: (100,) | y[:3] [-0.63283944  1.2688744  -1.2123786 ]\n",
      "\n",
      "\n",
      "16 | x.shape: (100,) | x[:3] [0.67676765 0.1919192  0.7373737 ]\n",
      "16 | y.shape: (100,) | y[:3] [ 1.0739161  -0.10618676  1.7421114 ]\n",
      "\n",
      "\n",
      "17 | x.shape: (100,) | x[:3] [ 0.2929293  -0.15151516 -0.7777778 ]\n",
      "17 | y.shape: (100,) | y[:3] [ 0.8430903  -0.15580669 -1.5891758 ]\n",
      "\n",
      "\n",
      "18 | x.shape: (100,) | x[:3] [-0.33333334  0.45454547  0.61616164]\n",
      "18 | y.shape: (100,) | y[:3] [-0.5046205   0.56517637  1.3567429 ]\n",
      "\n",
      "\n",
      "19 | x.shape: (100,) | x[:3] [-0.8989899  -0.7777778   0.93939394]\n",
      "19 | y.shape: (100,) | y[:3] [-1.5828595 -1.6030105  2.004027 ]\n",
      "\n",
      "\n"
     ]
    }
   ],
   "source": [
    "# 定义两个占位符，用来接收参数\n",
    "Xinput = tf.placeholder(\"float\",(None))\n",
    "Yinput = tf.placeholder(\"float\",(None))\n",
    "\n",
    "training_epochs = 20                               # 定义需要迭代的次数\n",
    "\n",
    "with tf.Session() as sess:                         # 建立会话\n",
    "    for (x,y),ii in GenerateData(training_epochs): # 用一个循环来遍历\n",
    "        xv,yv = sess.run([Xinput,Yinput],feed_dict={Xinput:x,Yinput:y})   # 通过静态图注入的方式来传入数据\n",
    "        print(ii,\"| x.shape:\",np.shape(xv),\"| x[:3]\",xv[:3])            # 输出x数据\n",
    "        print(ii,\"| y.shape:\",np.shape(yv),\"| y[:3]\",yv[:3])            # 输出y数据\n",
    "        print(\"\\n\")  "
   ]
  },
  {
   "cell_type": "code",
   "execution_count": 27,
   "metadata": {},
   "outputs": [
    {
     "data": {
      "image/png": "[encoded data removed]",
      "text/plain": [
       "<Figure size 432x288 with 1 Axes>"
      ]
     },
     "metadata": {
      "needs_background": "light"
     },
     "output_type": "display_data"
    }
   ],
   "source": [
    "# 显示模拟数据点\n",
    "train_data = list(GenerateData(1))[0]\n",
    "\n",
    "plt.plot(train_data[0][0],train_data[0][1],'ro',label='Original data')\n",
    "plt.legend()\n",
    "plt.show() "
   ]
  },
  {
   "cell_type": "markdown",
   "metadata": {},
   "source": [
    "## 实例3:将图片制作成内存对象数据集"
   ]
  },
  {
   "cell_type": "markdown",
   "metadata": {},
   "source": [
    "将图片样本数据来制作成数据集。使用TensorFlow的队列方式，充分使用CPU的多线程资源，让训练模型与数据读取以并行的方式同时运行，从而大大提升效率。"
   ]
  },
  {
   "cell_type": "code",
   "execution_count": 99,
   "metadata": {},
   "outputs": [
    {
     "name": "stdout",
     "output_type": "stream",
     "text": [
      "loading sample  dataset..\n",
      "8000 ['mnist_digits_images/6/492.bmp' 'mnist_digits_images/5/65.bmp'] 8000 [6 5]\n",
      "****************************************************************************************************\n",
      "['6' '5'] ['0' '1' '2' '3' '4' '5' '6' '7' '8' '9']\n"
     ]
    }
   ],
   "source": [
    "def load_sample(sample_dir):\n",
    "    '''递归读取文件。只支持一级。返回文件名、数值标签、数值对应的标签名'''\n",
    "    print ('loading sample  dataset..')\n",
    "    lfilenames = []\n",
    "    labelsnames = []\n",
    "    for (dirpath, dirnames, filenames,) in os.walk(sample_dir):#递归遍历文件夹\n",
    "        for filename in filenames:                            #遍历所有文件名\n",
    "            #print(dirnames)\n",
    "            filename_path = os.sep.join([dirpath, filename])\n",
    "            lfilenames.append(filename_path)               #添加文件名\n",
    "            labelsnames.append( dirpath.split('/')[-1] )   #添加文件名对应的标签\n",
    "\n",
    "    lab= list(sorted(set(labelsnames)))  #生成标签名称列表\n",
    "    labdict=dict( zip( lab  ,list(range(len(lab)))  )) #生成字典\n",
    "\n",
    "    labels = [labdict[i] for i in labelsnames]\n",
    "    return shuffle(np.asarray( lfilenames),np.asarray( labels)),np.asarray(lab)\n",
    "\n",
    "\n",
    "data_dir = 'mnist_digits_images'   \n",
    "(image,label),labelsnames = load_sample(data_dir)   #载入文件名称与标签\n",
    "print(len(image)-1,image[:2],len(label)-1,label[:2])#输出load_sample返回的数据结果\n",
    "print('*'*100) \n",
    "print(labelsnames[ label[:2] ],labelsnames[:-1])  #输出load_sample返回的标签字符串"
   ]
  },
  {
   "cell_type": "code",
   "execution_count": 96,
   "metadata": {},
   "outputs": [],
   "source": [
    "def get_batches(image,label,resize_w,resize_h,channels,batch_size):\n",
    "    \n",
    "    queue = tf.train.slice_input_producer([image,label])\n",
    "    label = queue[1]\n",
    "    \n",
    "    image_c = tf.read_file(queue[0])\n",
    "    \n",
    "    image = tf.image.decode_bmp(image_c,channels)\n",
    "    \n",
    "    image = tf.image.resize_image_with_crop_or_pad(image,resize_w,resize_h)\n",
    "    \n",
    "    # 将图片进行标准化处理\n",
    "    image = tf.image.per_image_standardization(image)\n",
    "    image_batch,label_batch = tf.train.batch([image,label],\n",
    "                                            batch_size=batch_size,\n",
    "                                            num_threads=64)\n",
    "     \n",
    "    images_batch = tf.cast(image_batch,tf.float32)\n",
    "    # 修改标签的形状\n",
    "    labels_batch = tf.reshape(label_batch,[batch_size])\n",
    "    return images_batch,labels_batch\n",
    "\n",
    "batch_size = 16\n",
    "image_batches,label_batchs = get_batches(image,label,28,28,1,batch_size)"
   ]
  },
  {
   "cell_type": "code",
   "execution_count": 97,
   "metadata": {},
   "outputs": [],
   "source": [
    "def showresult(subplot,title,thisimg):\n",
    "    p = plt.subplot(subplot)\n",
    "    p.axis('off')\n",
    "    # p.imshow(np.asarray(thisimg[0,dtype='uint8']))\n",
    "    p.imshow(np.reshape(thisimg,(28,28)))\n",
    "    p.set_title(title)\n",
    "    \n",
    "def showing(index,label,img,ntop):\n",
    "    plt.figure(figsize=(20,10))\n",
    "    plt.axis('off')\n",
    "    ntop = min(ntop,9) \n",
    "    print(index)\n",
    "    for i in range(ntop):\n",
    "        showresult(100+10*ntop+1+i,label[i],img[i])\n",
    "    plt.show()\n",
    "    \n",
    "with tf.Session() as sess:\n",
    "    init = tf.global_variables_initializer()\n",
    "    sess.run(init)\n",
    "    \n",
    "    coord = tf.train.Coordinator()\n",
    "    threads = tf.train.start_queue_runners(sess=sess,coord=coord)\n",
    "    try:\n",
    "        for step in np.arange(10):\n",
    "            if coord.should_stop():\n",
    "                break\n",
    "                image,label = sess.run([image_batches,label_batchs])\n",
    "                \n",
    "                showimg(step,label,images,batch_size)\n",
    "                print(label)\n",
    "    except tf.errors.OutOfRangeError:\n",
    "        print(\"Done!!!\")\n",
    "    finally:\n",
    "        coord.request_stop()\n",
    "    \n",
    "    coord.join(threads) "
   ]
  },
  {
   "cell_type": "code",
   "execution_count": 100,
   "metadata": {},
   "outputs": [
    {
     "name": "stdout",
     "output_type": "stream",
     "text": [
      "INFO:tensorflow:Error reported to Coordinator: <class 'tensorflow.python.framework.errors_impl.InvalidArgumentError'>, indices = 3696 is not in [0, 16)\n",
      "\t [[{{node input_producer_4/GatherV2_1}} = GatherV2[Taxis=DT_INT32, Tindices=DT_INT32, Tparams=DT_INT64, _device=\"/job:localhost/replica:0/task:0/device:CPU:0\"](input_producer_4/Const_1, input_producer_4/input_producer_Dequeue, resize_image_with_crop_or_pad_4/pad_to_bounding_box/GreaterEqual/y)]]\n",
      "0\n"
     ]
    },
    {
     "data": {
      "image/png": "[encoded data removed]",
      "text/plain": [
       "<Figure size 1440x720 with 9 Axes>"
      ]
     },
     "metadata": {
      "needs_background": "light"
     },
     "output_type": "display_data"
    },
    {
     "name": "stdout",
     "output_type": "stream",
     "text": [
      "[8 1 7 3 2 0 9 8 0 0 4 6 2 9 6 7]\n"
     ]
    },
    {
     "ename": "InvalidArgumentError",
     "evalue": "indices = 3696 is not in [0, 16)\n\t [[{{node input_producer_4/GatherV2_1}} = GatherV2[Taxis=DT_INT32, Tindices=DT_INT32, Tparams=DT_INT64, _device=\"/job:localhost/replica:0/task:0/device:CPU:0\"](input_producer_4/Const_1, input_producer_4/input_producer_Dequeue, resize_image_with_crop_or_pad_4/pad_to_bounding_box/GreaterEqual/y)]]",
     "output_type": "error",
     "traceback": [
      "\u001b[0;31m---------------------------------------------------------------------------\u001b[0m",
      "\u001b[0;31mInvalidArgumentError\u001b[0m                      Traceback (most recent call last)",
      "\u001b[0;32m<ipython-input-100-9d957cf884e5>\u001b[0m in \u001b[0;36m<module>\u001b[0;34m\u001b[0m\n\u001b[1;32m     64\u001b[0m         \u001b[0mcoord\u001b[0m\u001b[0;34m.\u001b[0m\u001b[0mrequest_stop\u001b[0m\u001b[0;34m(\u001b[0m\u001b[0;34m)\u001b[0m\u001b[0;34m\u001b[0m\u001b[0;34m\u001b[0m\u001b[0m\n\u001b[1;32m     65\u001b[0m \u001b[0;34m\u001b[0m\u001b[0m\n\u001b[0;32m---> 66\u001b[0;31m     \u001b[0mcoord\u001b[0m\u001b[0;34m.\u001b[0m\u001b[0mjoin\u001b[0m\u001b[0;34m(\u001b[0m\u001b[0mthreads\u001b[0m\u001b[0;34m)\u001b[0m\u001b[0;34m\u001b[0m\u001b[0;34m\u001b[0m\u001b[0m\n\u001b[0m",
      "\u001b[0;32m~/anaconda3/envs/tensorflow/lib/python3.6/site-packages/tensorflow/python/training/coordinator.py\u001b[0m in \u001b[0;36mjoin\u001b[0;34m(self, threads, stop_grace_period_secs, ignore_live_threads)\u001b[0m\n\u001b[1;32m    387\u001b[0m       \u001b[0mself\u001b[0m\u001b[0;34m.\u001b[0m\u001b[0m_registered_threads\u001b[0m \u001b[0;34m=\u001b[0m \u001b[0mset\u001b[0m\u001b[0;34m(\u001b[0m\u001b[0;34m)\u001b[0m\u001b[0;34m\u001b[0m\u001b[0;34m\u001b[0m\u001b[0m\n\u001b[1;32m    388\u001b[0m       \u001b[0;32mif\u001b[0m \u001b[0mself\u001b[0m\u001b[0;34m.\u001b[0m\u001b[0m_exc_info_to_raise\u001b[0m\u001b[0;34m:\u001b[0m\u001b[0;34m\u001b[0m\u001b[0;34m\u001b[0m\u001b[0m\n\u001b[0;32m--> 389\u001b[0;31m         \u001b[0msix\u001b[0m\u001b[0;34m.\u001b[0m\u001b[0mreraise\u001b[0m\u001b[0;34m(\u001b[0m\u001b[0;34m*\u001b[0m\u001b[0mself\u001b[0m\u001b[0;34m.\u001b[0m\u001b[0m_exc_info_to_raise\u001b[0m\u001b[0;34m)\u001b[0m\u001b[0;34m\u001b[0m\u001b[0;34m\u001b[0m\u001b[0m\n\u001b[0m\u001b[1;32m    390\u001b[0m       \u001b[0;32melif\u001b[0m \u001b[0mstragglers\u001b[0m\u001b[0;34m:\u001b[0m\u001b[0;34m\u001b[0m\u001b[0;34m\u001b[0m\u001b[0m\n\u001b[1;32m    391\u001b[0m         \u001b[0;32mif\u001b[0m \u001b[0mignore_live_threads\u001b[0m\u001b[0;34m:\u001b[0m\u001b[0;34m\u001b[0m\u001b[0;34m\u001b[0m\u001b[0m\n",
      "\u001b[0;32m~/anaconda3/envs/tensorflow/lib/python3.6/site-packages/six.py\u001b[0m in \u001b[0;36mreraise\u001b[0;34m(tp, value, tb)\u001b[0m\n\u001b[1;32m    691\u001b[0m             \u001b[0;32mif\u001b[0m \u001b[0mvalue\u001b[0m\u001b[0;34m.\u001b[0m\u001b[0m__traceback__\u001b[0m \u001b[0;32mis\u001b[0m \u001b[0;32mnot\u001b[0m \u001b[0mtb\u001b[0m\u001b[0;34m:\u001b[0m\u001b[0;34m\u001b[0m\u001b[0;34m\u001b[0m\u001b[0m\n\u001b[1;32m    692\u001b[0m                 \u001b[0;32mraise\u001b[0m \u001b[0mvalue\u001b[0m\u001b[0;34m.\u001b[0m\u001b[0mwith_traceback\u001b[0m\u001b[0;34m(\u001b[0m\u001b[0mtb\u001b[0m\u001b[0;34m)\u001b[0m\u001b[0;34m\u001b[0m\u001b[0;34m\u001b[0m\u001b[0m\n\u001b[0;32m--> 693\u001b[0;31m             \u001b[0;32mraise\u001b[0m \u001b[0mvalue\u001b[0m\u001b[0;34m\u001b[0m\u001b[0;34m\u001b[0m\u001b[0m\n\u001b[0m\u001b[1;32m    694\u001b[0m         \u001b[0;32mfinally\u001b[0m\u001b[0;34m:\u001b[0m\u001b[0;34m\u001b[0m\u001b[0;34m\u001b[0m\u001b[0m\n\u001b[1;32m    695\u001b[0m             \u001b[0mvalue\u001b[0m \u001b[0;34m=\u001b[0m \u001b[0;32mNone\u001b[0m\u001b[0;34m\u001b[0m\u001b[0;34m\u001b[0m\u001b[0m\n",
      "\u001b[0;32m~/anaconda3/envs/tensorflow/lib/python3.6/site-packages/tensorflow/python/training/queue_runner_impl.py\u001b[0m in \u001b[0;36m_run\u001b[0;34m(self, sess, enqueue_op, coord)\u001b[0m\n\u001b[1;32m    255\u001b[0m           \u001b[0;32mbreak\u001b[0m\u001b[0;34m\u001b[0m\u001b[0;34m\u001b[0m\u001b[0m\n\u001b[1;32m    256\u001b[0m         \u001b[0;32mtry\u001b[0m\u001b[0;34m:\u001b[0m\u001b[0;34m\u001b[0m\u001b[0;34m\u001b[0m\u001b[0m\n\u001b[0;32m--> 257\u001b[0;31m           \u001b[0menqueue_callable\u001b[0m\u001b[0;34m(\u001b[0m\u001b[0;34m)\u001b[0m\u001b[0;34m\u001b[0m\u001b[0;34m\u001b[0m\u001b[0m\n\u001b[0m\u001b[1;32m    258\u001b[0m         \u001b[0;32mexcept\u001b[0m \u001b[0mself\u001b[0m\u001b[0;34m.\u001b[0m\u001b[0m_queue_closed_exception_types\u001b[0m\u001b[0;34m:\u001b[0m  \u001b[0;31m# pylint: disable=catching-non-exception\u001b[0m\u001b[0;34m\u001b[0m\u001b[0;34m\u001b[0m\u001b[0m\n\u001b[1;32m    259\u001b[0m           \u001b[0;31m# This exception indicates that a queue was closed.\u001b[0m\u001b[0;34m\u001b[0m\u001b[0;34m\u001b[0m\u001b[0;34m\u001b[0m\u001b[0m\n",
      "\u001b[0;32m~/anaconda3/envs/tensorflow/lib/python3.6/site-packages/tensorflow/python/client/session.py\u001b[0m in \u001b[0;36m_single_operation_run\u001b[0;34m()\u001b[0m\n\u001b[1;32m   1255\u001b[0m \u001b[0;34m\u001b[0m\u001b[0m\n\u001b[1;32m   1256\u001b[0m       \u001b[0;32mdef\u001b[0m \u001b[0m_single_operation_run\u001b[0m\u001b[0;34m(\u001b[0m\u001b[0;34m)\u001b[0m\u001b[0;34m:\u001b[0m\u001b[0;34m\u001b[0m\u001b[0;34m\u001b[0m\u001b[0m\n\u001b[0;32m-> 1257\u001b[0;31m         \u001b[0mself\u001b[0m\u001b[0;34m.\u001b[0m\u001b[0m_call_tf_sessionrun\u001b[0m\u001b[0;34m(\u001b[0m\u001b[0;32mNone\u001b[0m\u001b[0;34m,\u001b[0m \u001b[0;34m{\u001b[0m\u001b[0;34m}\u001b[0m\u001b[0;34m,\u001b[0m \u001b[0;34m[\u001b[0m\u001b[0;34m]\u001b[0m\u001b[0;34m,\u001b[0m \u001b[0mtarget_list\u001b[0m\u001b[0;34m,\u001b[0m \u001b[0;32mNone\u001b[0m\u001b[0;34m)\u001b[0m\u001b[0;34m\u001b[0m\u001b[0;34m\u001b[0m\u001b[0m\n\u001b[0m\u001b[1;32m   1258\u001b[0m \u001b[0;34m\u001b[0m\u001b[0m\n\u001b[1;32m   1259\u001b[0m       \u001b[0;32mreturn\u001b[0m \u001b[0m_single_operation_run\u001b[0m\u001b[0;34m\u001b[0m\u001b[0;34m\u001b[0m\u001b[0m\n",
      "\u001b[0;32m~/anaconda3/envs/tensorflow/lib/python3.6/site-packages/tensorflow/python/client/session.py\u001b[0m in \u001b[0;36m_call_tf_sessionrun\u001b[0;34m(self, options, feed_dict, fetch_list, target_list, run_metadata)\u001b[0m\n\u001b[1;32m   1405\u001b[0m     return tf_session.TF_SessionRun_wrapper(\n\u001b[1;32m   1406\u001b[0m         \u001b[0mself\u001b[0m\u001b[0;34m.\u001b[0m\u001b[0m_session\u001b[0m\u001b[0;34m,\u001b[0m \u001b[0moptions\u001b[0m\u001b[0;34m,\u001b[0m \u001b[0mfeed_dict\u001b[0m\u001b[0;34m,\u001b[0m \u001b[0mfetch_list\u001b[0m\u001b[0;34m,\u001b[0m \u001b[0mtarget_list\u001b[0m\u001b[0;34m,\u001b[0m\u001b[0;34m\u001b[0m\u001b[0;34m\u001b[0m\u001b[0m\n\u001b[0;32m-> 1407\u001b[0;31m         run_metadata)\n\u001b[0m\u001b[1;32m   1408\u001b[0m \u001b[0;34m\u001b[0m\u001b[0m\n\u001b[1;32m   1409\u001b[0m   \u001b[0;32mdef\u001b[0m \u001b[0m_call_tf_sessionprun\u001b[0m\u001b[0;34m(\u001b[0m\u001b[0mself\u001b[0m\u001b[0;34m,\u001b[0m \u001b[0mhandle\u001b[0m\u001b[0;34m,\u001b[0m \u001b[0mfeed_dict\u001b[0m\u001b[0;34m,\u001b[0m \u001b[0mfetch_list\u001b[0m\u001b[0;34m)\u001b[0m\u001b[0;34m:\u001b[0m\u001b[0;34m\u001b[0m\u001b[0;34m\u001b[0m\u001b[0m\n",
      "\u001b[0;31mInvalidArgumentError\u001b[0m: indices = 3696 is not in [0, 16)\n\t [[{{node input_producer_4/GatherV2_1}} = GatherV2[Taxis=DT_INT32, Tindices=DT_INT32, Tparams=DT_INT64, _device=\"/job:localhost/replica:0/task:0/device:CPU:0\"](input_producer_4/Const_1, input_producer_4/input_producer_Dequeue, resize_image_with_crop_or_pad_4/pad_to_bounding_box/GreaterEqual/y)]]"
     ]
    }
   ],
   "source": [
    "def get_batches(image,label,input_w,input_h,channels,batch_size):\n",
    "\n",
    "    queue = tf.train.slice_input_producer([image,label])  #使用tf.train.slice_input_producer实现一个输入的队列\n",
    "    label = queue[1]                                        #从输入队列里读取标签\n",
    "\n",
    "    image_c = tf.read_file(queue[0])                        #从输入队列里读取image路径\n",
    "\n",
    "    image = tf.image.decode_bmp(image_c,channels)           #按照路径读取图片\n",
    "\n",
    "    image = tf.image.resize_image_with_crop_or_pad(image,input_w,input_h) #修改图片大小\n",
    "\n",
    "\n",
    "    image = tf.image.per_image_standardization(image) #图像标准化处理，(x - mean) / adjusted_stddev\n",
    "\n",
    "    image_batch,label_batch = tf.train.batch([image,label],#调用tf.train.batch函数生成批次数据\n",
    "               batch_size = batch_size,\n",
    "               num_threads = 64)\n",
    "\n",
    "    images_batch = tf.cast(image_batch,tf.float32)   #将数据类型转换为float32\n",
    "\n",
    "    labels_batch = tf.reshape(label_batch,[batch_size])#修改标签的形状shape\n",
    "    return images_batch,labels_batch\n",
    "\n",
    "\n",
    "batch_size = 16\n",
    "image_batches,label_batches = get_batches(image,label,28,28,1,batch_size)\n",
    "\n",
    "\n",
    "\n",
    "def showresult(subplot,title,thisimg):          #显示单个图片\n",
    "    p =plt.subplot(subplot)\n",
    "    p.axis('off')\n",
    "    #p.imshow(np.asarray(thisimg[0], dtype='uint8'))\n",
    "    p.imshow(np.reshape(thisimg, (28, 28)))\n",
    "    p.set_title(title)\n",
    "\n",
    "def showimg(index,label,img,ntop):   #显示\n",
    "    plt.figure(figsize=(20,10))     #定义显示图片的宽、高\n",
    "    plt.axis('off')\n",
    "    ntop = min(ntop,9)\n",
    "    print(index)\n",
    "    for i in range (ntop):\n",
    "        showresult(100+10*ntop+1+i,label[i],img[i])\n",
    "    plt.show()\n",
    "\n",
    "with tf.Session() as sess:\n",
    "    init = tf.global_variables_initializer()\n",
    "    sess.run(init)  #初始化\n",
    "\n",
    "    coord = tf.train.Coordinator()          #开启列队\n",
    "    threads = tf.train.start_queue_runners(sess = sess,coord = coord)\n",
    "    try:\n",
    "        for step in np.arange(10):\n",
    "            if coord.should_stop():\n",
    "                break\n",
    "            images,label = sess.run([image_batches,label_batches]) #注入数据\n",
    "\n",
    "            showimg(step,label,images,batch_size)       #显示图片\n",
    "            print(label)                                 #打印数据\n",
    "\n",
    "    except tf.errors.OutOfRangeError:\n",
    "        print(\"Done!!!\")\n",
    "    finally:\n",
    "        coord.request_stop()\n",
    "\n",
    "    coord.join(threads)  "
   ]
  },
  {
   "cell_type": "code",
   "execution_count": null,
   "metadata": {},
   "outputs": [],
   "source": []
  }
 ],
 "metadata": {
  "kernelspec": {
   "display_name": "Python 3.6 (tensorflow)",
   "language": "python",
   "name": "tensorflow"
  },
  "language_info": {
   "codemirror_mode": {
    "name": "ipython",
    "version": 3
   },
   "file_extension": ".py",
   "mimetype": "text/x-python",
   "name": "python",
   "nbconvert_exporter": "python",
   "pygments_lexer": "ipython3",
   "version": "3.6.8"
  },
  "toc": {
   "base_numbering": 1,
   "nav_menu": {},
   "number_sections": true,
   "sideBar": true,
   "skip_h1_title": false,
   "title_cell": "Table of Contents",
   "title_sidebar": "Contents",
   "toc_cell": false,
   "toc_position": {},
   "toc_section_display": true,
   "toc_window_display": false
  }
 },
 "nbformat": 4,
 "nbformat_minor": 2
}
