{
 "cells": [
  {
   "cell_type": "markdown",
   "metadata": {},
   "source": [
    "## 实例3:将图片制作成内存对象数据集"
   ]
  },
  {
   "cell_type": "markdown",
   "metadata": {},
   "source": [
    "将图片样本数据来制作成数据集。使用TensorFlow的队列方式，充分使用CPU的多线程资源，让训练模型与数据读取以并行的方式同时运行，从而大大提升效率。"
   ]
  },
  {
   "cell_type": "code",
   "execution_count": 4,
   "metadata": {},
   "outputs": [],
   "source": [
    "import tensorflow as tf\n",
    "import os\n",
    "import numpy as np\n",
    "import matplotlib.pyplot as plt\n",
    "from sklearn.utils import shuffle"
   ]
  },
  {
   "cell_type": "code",
   "execution_count": 5,
   "metadata": {},
   "outputs": [
    {
     "name": "stdout",
     "output_type": "stream",
     "text": [
      "loading sample  dataset..\n",
      "8000 ['mnist_digits_images/8/162.bmp' 'mnist_digits_images/2/752.bmp'] 8000 [8 2]\n",
      "****************************************************************************************************\n",
      "['8' '2'] ['0' '1' '2' '3' '4' '5' '6' '7' '8' '9']\n"
     ]
    }
   ],
   "source": [
    "def load_sample(sample_dir):\n",
    "    '''递归读取文件。只支持一级。返回文件名、数值标签、数值对应的标签名'''\n",
    "    print ('loading sample  dataset..')\n",
    "    lfilenames = []\n",
    "    labelsnames = []\n",
    "    for (dirpath, dirnames, filenames,) in os.walk(sample_dir):#递归遍历文件夹\n",
    "        for filename in filenames:                            #遍历所有文件名\n",
    "            #print(dirnames)\n",
    "            filename_path = os.sep.join([dirpath, filename])\n",
    "            lfilenames.append(filename_path)               #添加文件名\n",
    "            labelsnames.append( dirpath.split('/')[-1] )   #添加文件名对应的标签\n",
    "\n",
    "    lab= list(sorted(set(labelsnames)))  #生成标签名称列表\n",
    "    labdict=dict( zip( lab  ,list(range(len(lab)))  )) #生成字典\n",
    "\n",
    "    labels = [labdict[i] for i in labelsnames]\n",
    "    return shuffle(np.asarray( lfilenames),np.asarray( labels)),np.asarray(lab)\n",
    "\n",
    "\n",
    "data_dir = 'mnist_digits_images'   \n",
    "(image,label),labelsnames = load_sample(data_dir)   #载入文件名称与标签\n",
    "print(len(image)-1,image[:2],len(label)-1,label[:2])#输出load_sample返回的数据结果\n",
    "print('*'*100) \n",
    "print(labelsnames[ label[:2] ],labelsnames[:-1]) "
   ]
  },
  {
   "cell_type": "code",
   "execution_count": 6,
   "metadata": {},
   "outputs": [
    {
     "name": "stdout",
     "output_type": "stream",
     "text": [
      "WARNING:tensorflow:From <ipython-input-6-9d957cf884e5>:3: slice_input_producer (from tensorflow.python.training.input) is deprecated and will be removed in a future version.\n",
      "Instructions for updating:\n",
      "Queue-based input pipelines have been replaced by `tf.data`. Use `tf.data.Dataset.from_tensor_slices(tuple(tensor_list)).shuffle(tf.shape(input_tensor, out_type=tf.int64)[0]).repeat(num_epochs)`. If `shuffle=False`, omit the `.shuffle(...)`.\n",
      "WARNING:tensorflow:From /Users/lidianxiang/anaconda3/envs/tensorflow/lib/python3.6/site-packages/tensorflow/python/training/input.py:372: range_input_producer (from tensorflow.python.training.input) is deprecated and will be removed in a future version.\n",
      "Instructions for updating:\n",
      "Queue-based input pipelines have been replaced by `tf.data`. Use `tf.data.Dataset.range(limit).shuffle(limit).repeat(num_epochs)`. If `shuffle=False`, omit the `.shuffle(...)`.\n",
      "WARNING:tensorflow:From /Users/lidianxiang/anaconda3/envs/tensorflow/lib/python3.6/site-packages/tensorflow/python/training/input.py:318: input_producer (from tensorflow.python.training.input) is deprecated and will be removed in a future version.\n",
      "Instructions for updating:\n",
      "Queue-based input pipelines have been replaced by `tf.data`. Use `tf.data.Dataset.from_tensor_slices(input_tensor).shuffle(tf.shape(input_tensor, out_type=tf.int64)[0]).repeat(num_epochs)`. If `shuffle=False`, omit the `.shuffle(...)`.\n",
      "WARNING:tensorflow:From /Users/lidianxiang/anaconda3/envs/tensorflow/lib/python3.6/site-packages/tensorflow/python/training/input.py:188: limit_epochs (from tensorflow.python.training.input) is deprecated and will be removed in a future version.\n",
      "Instructions for updating:\n",
      "Queue-based input pipelines have been replaced by `tf.data`. Use `tf.data.Dataset.from_tensors(tensor).repeat(num_epochs)`.\n",
      "WARNING:tensorflow:From /Users/lidianxiang/anaconda3/envs/tensorflow/lib/python3.6/site-packages/tensorflow/python/training/input.py:197: QueueRunner.__init__ (from tensorflow.python.training.queue_runner_impl) is deprecated and will be removed in a future version.\n",
      "Instructions for updating:\n",
      "To construct input pipelines, use the `tf.data` module.\n",
      "WARNING:tensorflow:From /Users/lidianxiang/anaconda3/envs/tensorflow/lib/python3.6/site-packages/tensorflow/python/training/input.py:197: add_queue_runner (from tensorflow.python.training.queue_runner_impl) is deprecated and will be removed in a future version.\n",
      "Instructions for updating:\n",
      "To construct input pipelines, use the `tf.data` module.\n",
      "WARNING:tensorflow:From <ipython-input-6-9d957cf884e5>:17: batch (from tensorflow.python.training.input) is deprecated and will be removed in a future version.\n",
      "Instructions for updating:\n",
      "Queue-based input pipelines have been replaced by `tf.data`. Use `tf.data.Dataset.batch(batch_size)` (or `padded_batch(...)` if `dynamic_pad=True`).\n",
      "WARNING:tensorflow:From <ipython-input-6-9d957cf884e5>:51: start_queue_runners (from tensorflow.python.training.queue_runner_impl) is deprecated and will be removed in a future version.\n",
      "Instructions for updating:\n",
      "To construct input pipelines, use the `tf.data` module.\n",
      "0\n"
     ]
    },
    {
     "data": {
      "image/png": "[encoded data removed]",
      "text/plain": [
       "<Figure size 1440x720 with 9 Axes>"
      ]
     },
     "metadata": {
      "needs_background": "light"
     },
     "output_type": "display_data"
    },
    {
     "name": "stdout",
     "output_type": "stream",
     "text": [
      "[4 0 4 8 0 0 1 2 5 9 9 5 5 7 9 8]\n",
      "1\n"
     ]
    },
    {
     "data": {
      "image/png": "[encoded data removed]",
      "text/plain": [
       "<Figure size 1440x720 with 9 Axes>"
      ]
     },
     "metadata": {
      "needs_background": "light"
     },
     "output_type": "display_data"
    },
    {
     "name": "stdout",
     "output_type": "stream",
     "text": [
      "[9 4 6 4 3 9 6 4 0 3 1 1 1 5 9 2]\n",
      "2\n"
     ]
    },
    {
     "data": {
      "image/png": "[encoded data removed]",
      "text/plain": [
       "<Figure size 1440x720 with 9 Axes>"
      ]
     },
     "metadata": {
      "needs_background": "light"
     },
     "output_type": "display_data"
    },
    {
     "name": "stdout",
     "output_type": "stream",
     "text": [
      "[9 0 0 6 4 8 2 7 2 0 3 2 0 9 7 3]\n",
      "3\n"
     ]
    },
    {
     "data": {
      "image/png": "[encoded data removed]",
      "text/plain": [
       "<Figure size 1440x720 with 9 Axes>"
      ]
     },
     "metadata": {
      "needs_background": "light"
     },
     "output_type": "display_data"
    },
    {
     "name": "stdout",
     "output_type": "stream",
     "text": [
      "[2 1 5 1 7 5 8 8 6 5 5 0 9 8 3 7]\n",
      "4\n"
     ]
    },
    {
     "data": {
      "image/png": "[encoded data removed]",
      "text/plain": [
       "<Figure size 1440x720 with 9 Axes>"
      ]
     },
     "metadata": {
      "needs_background": "light"
     },
     "output_type": "display_data"
    },
    {
     "name": "stdout",
     "output_type": "stream",
     "text": [
      "[3 6 7 1 6 6 1 9 2 4 8 1 7 3 1 1]\n",
      "5\n"
     ]
    },
    {
     "data": {
      "image/png": "[encoded data removed]",
      "text/plain": [
       "<Figure size 1440x720 with 9 Axes>"
      ]
     },
     "metadata": {
      "needs_background": "light"
     },
     "output_type": "display_data"
    },
    {
     "name": "stdout",
     "output_type": "stream",
     "text": [
      "[7 5 5 1 9 7 5 8 0 5 7 1 3 1 9 6]\n",
      "6\n"
     ]
    },
    {
     "data": {
      "image/png": "[encoded data removed]",
      "text/plain": [
       "<Figure size 1440x720 with 9 Axes>"
      ]
     },
     "metadata": {
      "needs_background": "light"
     },
     "output_type": "display_data"
    },
    {
     "name": "stdout",
     "output_type": "stream",
     "text": [
      "[1 3 9 8 2 2 3 7 1 2 1 5 2 1 0 9]\n",
      "7\n"
     ]
    },
    {
     "data": {
      "image/png": "[encoded data removed]",
      "text/plain": [
       "<Figure size 1440x720 with 9 Axes>"
      ]
     },
     "metadata": {
      "needs_background": "light"
     },
     "output_type": "display_data"
    },
    {
     "name": "stdout",
     "output_type": "stream",
     "text": [
      "[5 5 4 1 0 6 9 3 3 0 6 4 7 8 0 6]\n",
      "8\n"
     ]
    },
    {
     "data": {
      "image/png": "[encoded data removed]",
      "text/plain": [
       "<Figure size 1440x720 with 9 Axes>"
      ]
     },
     "metadata": {
      "needs_background": "light"
     },
     "output_type": "display_data"
    },
    {
     "name": "stdout",
     "output_type": "stream",
     "text": [
      "[8 8 6 9 8 9 9 2 3 1 4 8 0 3 2 8]\n",
      "9\n"
     ]
    },
    {
     "data": {
      "image/png": "[encoded data removed]",
      "text/plain": [
       "<Figure size 1440x720 with 9 Axes>"
      ]
     },
     "metadata": {
      "needs_background": "light"
     },
     "output_type": "display_data"
    },
    {
     "name": "stdout",
     "output_type": "stream",
     "text": [
      "[9 7 2 6 9 0 7 0 0 1 2 9 3 7 1 7]\n"
     ]
    }
   ],
   "source": [
    "def get_batches(image,label,input_w,input_h,channels,batch_size):\n",
    "\n",
    "    queue = tf.train.slice_input_producer([image,label])  #使用tf.train.slice_input_producer实现一个输入的队列\n",
    "    label = queue[1]                                        #从输入队列里读取标签\n",
    "\n",
    "    image_c = tf.read_file(queue[0])                        #从输入队列里读取image路径\n",
    "\n",
    "    image = tf.image.decode_bmp(image_c,channels)           #按照路径读取图片\n",
    "\n",
    "    image = tf.image.resize_image_with_crop_or_pad(image,input_w,input_h) #修改图片大小\n",
    "\n",
    "\n",
    "    image = tf.image.per_image_standardization(image) #图像标准化处理，(x - mean) / adjusted_stddev\n",
    "\n",
    "    image_batch,label_batch = tf.train.batch([image,label],#调用tf.train.batch函数生成批次数据\n",
    "               batch_size = batch_size,\n",
    "               num_threads = 64)\n",
    "\n",
    "    images_batch = tf.cast(image_batch,tf.float32)   #将数据类型转换为float32\n",
    "\n",
    "    labels_batch = tf.reshape(label_batch,[batch_size])#修改标签的形状shape\n",
    "    return images_batch,labels_batch\n",
    "\n",
    "\n",
    "batch_size = 16\n",
    "image_batches,label_batches = get_batches(image,label,28,28,1,batch_size)\n",
    "\n",
    "\n",
    "\n",
    "def showresult(subplot,title,thisimg):          #显示单个图片\n",
    "    p =plt.subplot(subplot)\n",
    "    p.axis('off')\n",
    "    #p.imshow(np.asarray(thisimg[0], dtype='uint8'))\n",
    "    p.imshow(np.reshape(thisimg, (28, 28)))\n",
    "    p.set_title(title)\n",
    "\n",
    "def showimg(index,label,img,ntop):   #显示\n",
    "    plt.figure(figsize=(20,10))     #定义显示图片的宽、高\n",
    "    plt.axis('off')\n",
    "    ntop = min(ntop,9)\n",
    "    print(index)\n",
    "    for i in range (ntop):\n",
    "        showresult(100+10*ntop+1+i,label[i],img[i])\n",
    "    plt.show()\n",
    "\n",
    "with tf.Session() as sess:\n",
    "    init = tf.global_variables_initializer()\n",
    "    sess.run(init)  #初始化\n",
    "\n",
    "    coord = tf.train.Coordinator()          #开启列队\n",
    "    threads = tf.train.start_queue_runners(sess = sess,coord = coord)\n",
    "    try:\n",
    "        for step in np.arange(10):\n",
    "            if coord.should_stop():\n",
    "                break\n",
    "            images,label = sess.run([image_batches,label_batches]) #注入数据\n",
    "\n",
    "            showimg(step,label,images,batch_size)       #显示图片\n",
    "            print(label)                                 #打印数据\n",
    "\n",
    "    except tf.errors.OutOfRangeError:\n",
    "        print(\"Done!!!\")\n",
    "    finally:\n",
    "        coord.request_stop()\n",
    "\n",
    "    coord.join(threads)  "
   ]
  },
  {
   "cell_type": "code",
   "execution_count": null,
   "metadata": {},
   "outputs": [],
   "source": []
  }
 ],
 "metadata": {
  "kernelspec": {
   "display_name": "Python 3.6 (tensorflow)",
   "language": "python",
   "name": "tensorflow"
  },
  "language_info": {
   "codemirror_mode": {
    "name": "ipython",
    "version": 3
   },
   "file_extension": ".py",
   "mimetype": "text/x-python",
   "name": "python",
   "nbconvert_exporter": "python",
   "pygments_lexer": "ipython3",
   "version": "3.6.8"
  },
  "toc": {
   "base_numbering": 1,
   "nav_menu": {},
   "number_sections": true,
   "sideBar": true,
   "skip_h1_title": false,
   "title_cell": "Table of Contents",
   "title_sidebar": "Contents",
   "toc_cell": false,
   "toc_position": {},
   "toc_section_display": true,
   "toc_window_display": false
  }
 },
 "nbformat": 4,
 "nbformat_minor": 2
}
